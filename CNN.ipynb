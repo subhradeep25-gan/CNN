{
  "nbformat": 4,
  "nbformat_minor": 0,
  "metadata": {
    "colab": {
      "provenance": []
    },
    "kernelspec": {
      "name": "python3",
      "display_name": "Python 3"
    },
    "language_info": {
      "name": "python"
    },
    "accelerator": "GPU",
    "gpuClass": "standard"
  },
  "cells": [
    {
      "cell_type": "code",
      "execution_count": null,
      "metadata": {
        "id": "9nwSCD0PAF_f"
      },
      "outputs": [],
      "source": [
        "import numpy as np\n",
        "import pandas as pd\n",
        "import matplotlib.pyplot as plt\n",
        "import os"
      ]
    },
    {
      "cell_type": "code",
      "source": [
        "dataset_path = os.listdir('/content/drive/MyDrive/House_Room_Dataset')\n",
        "\n",
        "room_types = os.listdir('/content/drive/MyDrive/House_Room_Dataset')\n",
        "# What kind of rooms are in the dataset\n",
        "print(\"Room types: \", room_types) \n",
        "print(\"Number of rooms: \", len(dataset_path))"
      ],
      "metadata": {
        "id": "zeGwpwfEAVUH",
        "colab": {
          "base_uri": "https://localhost:8080/"
        },
        "outputId": "689fd643-bcec-4efd-8a99-b9dc7ae3f89d"
      },
      "execution_count": null,
      "outputs": [
        {
          "output_type": "stream",
          "name": "stdout",
          "text": [
            "Room types:  ['Dinning', 'Livingroom', 'Bedroom']\n",
            "Number of rooms:  3\n"
          ]
        }
      ]
    },
    {
      "cell_type": "code",
      "source": [
        "rooms = []\n",
        "\n",
        "for item in room_types:\n",
        "  # get all the file names\n",
        "  all_rooms = os.listdir('/content/drive/MyDrive/House_Room_Dataset' + '/' + item)\n",
        "  for room in all_rooms:\n",
        "    rooms.append((item, '/content/drive/MyDrive/House_Room_Dataset' + '/' + room))\n",
        "\n"
      ],
      "metadata": {
        "id": "YGNozYHET8FA"
      },
      "execution_count": null,
      "outputs": []
    },
    {
      "cell_type": "code",
      "source": [
        "rooms\n"
      ],
      "metadata": {
        "colab": {
          "base_uri": "https://localhost:8080/"
        },
        "id": "pO1a6hR4XWJc",
        "outputId": "c79d4658-e7ce-4d84-8304-2f2802d5e523"
      },
      "execution_count": null,
      "outputs": [
        {
          "output_type": "execute_result",
          "data": {
            "text/plain": [
              "[('Dinning', '/content/drive/MyDrive/House_Room_Dataset/din_1163.jpg'),\n",
              " ('Dinning', '/content/drive/MyDrive/House_Room_Dataset/din_1144.jpg'),\n",
              " ('Dinning', '/content/drive/MyDrive/House_Room_Dataset/din_1152.jpg'),\n",
              " ('Dinning', '/content/drive/MyDrive/House_Room_Dataset/din_1147.jpg'),\n",
              " ('Dinning', '/content/drive/MyDrive/House_Room_Dataset/din_1164.jpg'),\n",
              " ('Dinning', '/content/drive/MyDrive/House_Room_Dataset/din_118.jpg'),\n",
              " ('Dinning', '/content/drive/MyDrive/House_Room_Dataset/din_1141.jpg'),\n",
              " ('Dinning', '/content/drive/MyDrive/House_Room_Dataset/din_1156.jpg'),\n",
              " ('Dinning', '/content/drive/MyDrive/House_Room_Dataset/din_1196.jpg'),\n",
              " ('Dinning', '/content/drive/MyDrive/House_Room_Dataset/din_1161.jpg'),\n",
              " ('Dinning', '/content/drive/MyDrive/House_Room_Dataset/din_1166.jpg'),\n",
              " ('Dinning', '/content/drive/MyDrive/House_Room_Dataset/din_1139.jpg'),\n",
              " ('Dinning', '/content/drive/MyDrive/House_Room_Dataset/din_1205.jpg'),\n",
              " ('Dinning', '/content/drive/MyDrive/House_Room_Dataset/din_121.jpg'),\n",
              " ('Dinning', '/content/drive/MyDrive/House_Room_Dataset/din_1216.jpg'),\n",
              " ('Dinning', '/content/drive/MyDrive/House_Room_Dataset/din_1234.jpg'),\n",
              " ('Dinning', '/content/drive/MyDrive/House_Room_Dataset/din_1233.jpg'),\n",
              " ('Dinning', '/content/drive/MyDrive/House_Room_Dataset/din_1247.jpg'),\n",
              " ('Dinning', '/content/drive/MyDrive/House_Room_Dataset/din_1219.jpg'),\n",
              " ('Dinning', '/content/drive/MyDrive/House_Room_Dataset/din_1231.jpg'),\n",
              " ('Dinning', '/content/drive/MyDrive/House_Room_Dataset/din_1226.jpg'),\n",
              " ('Dinning', '/content/drive/MyDrive/House_Room_Dataset/din_1220.jpg'),\n",
              " ('Dinning', '/content/drive/MyDrive/House_Room_Dataset/din_1222.jpg'),\n",
              " ('Dinning', '/content/drive/MyDrive/House_Room_Dataset/din_1203.jpg'),\n",
              " ('Dinning', '/content/drive/MyDrive/House_Room_Dataset/din_1218.jpg'),\n",
              " ('Dinning', '/content/drive/MyDrive/House_Room_Dataset/din_1225.jpg'),\n",
              " ('Dinning', '/content/drive/MyDrive/House_Room_Dataset/din_123.jpg'),\n",
              " ('Dinning', '/content/drive/MyDrive/House_Room_Dataset/din_1239.jpg'),\n",
              " ('Dinning', '/content/drive/MyDrive/House_Room_Dataset/din_1214.jpg'),\n",
              " ('Dinning', '/content/drive/MyDrive/House_Room_Dataset/din_1238.jpg'),\n",
              " ('Dinning', '/content/drive/MyDrive/House_Room_Dataset/din_1227.jpg'),\n",
              " ('Dinning', '/content/drive/MyDrive/House_Room_Dataset/din_1224.jpg'),\n",
              " ('Dinning', '/content/drive/MyDrive/House_Room_Dataset/din_1208.jpg'),\n",
              " ('Dinning', '/content/drive/MyDrive/House_Room_Dataset/din_1246.jpg'),\n",
              " ('Dinning', '/content/drive/MyDrive/House_Room_Dataset/din_1243.jpg'),\n",
              " ('Dinning', '/content/drive/MyDrive/House_Room_Dataset/din_124.jpg'),\n",
              " ('Dinning', '/content/drive/MyDrive/House_Room_Dataset/din_1217.jpg'),\n",
              " ('Dinning', '/content/drive/MyDrive/House_Room_Dataset/din_1204.jpg'),\n",
              " ('Dinning', '/content/drive/MyDrive/House_Room_Dataset/din_1200.jpg'),\n",
              " ('Dinning', '/content/drive/MyDrive/House_Room_Dataset/din_120.jpg'),\n",
              " ('Dinning', '/content/drive/MyDrive/House_Room_Dataset/din_1228.jpg'),\n",
              " ('Dinning', '/content/drive/MyDrive/House_Room_Dataset/din_1241.jpg'),\n",
              " ('Dinning', '/content/drive/MyDrive/House_Room_Dataset/din_1212.jpg'),\n",
              " ('Dinning', '/content/drive/MyDrive/House_Room_Dataset/din_1209.jpg'),\n",
              " ('Dinning', '/content/drive/MyDrive/House_Room_Dataset/din_1201.jpg'),\n",
              " ('Dinning', '/content/drive/MyDrive/House_Room_Dataset/din_1240.jpg'),\n",
              " ('Dinning', '/content/drive/MyDrive/House_Room_Dataset/din_1211.jpg'),\n",
              " ('Dinning', '/content/drive/MyDrive/House_Room_Dataset/din_1250.jpg'),\n",
              " ('Dinning', '/content/drive/MyDrive/House_Room_Dataset/din_1213.jpg'),\n",
              " ('Dinning', '/content/drive/MyDrive/House_Room_Dataset/din_125.jpg'),\n",
              " ('Dinning', '/content/drive/MyDrive/House_Room_Dataset/din_1248.jpg'),\n",
              " ('Dinning', '/content/drive/MyDrive/House_Room_Dataset/din_1237.jpg'),\n",
              " ('Dinning', '/content/drive/MyDrive/House_Room_Dataset/din_1232.jpg'),\n",
              " ('Dinning', '/content/drive/MyDrive/House_Room_Dataset/din_1215.jpg'),\n",
              " ('Dinning', '/content/drive/MyDrive/House_Room_Dataset/din_1249.jpg'),\n",
              " ('Dinning', '/content/drive/MyDrive/House_Room_Dataset/din_1245.jpg'),\n",
              " ('Dinning', '/content/drive/MyDrive/House_Room_Dataset/din_1206.jpg'),\n",
              " ('Dinning', '/content/drive/MyDrive/House_Room_Dataset/din_1229.jpg'),\n",
              " ('Dinning', '/content/drive/MyDrive/House_Room_Dataset/din_1310.jpg'),\n",
              " ('Dinning', '/content/drive/MyDrive/House_Room_Dataset/din_1278.jpg'),\n",
              " ('Dinning', '/content/drive/MyDrive/House_Room_Dataset/din_130.jpg'),\n",
              " ('Dinning', '/content/drive/MyDrive/House_Room_Dataset/din_1269.jpg'),\n",
              " ('Dinning', '/content/drive/MyDrive/House_Room_Dataset/din_13.jpg'),\n",
              " ('Dinning', '/content/drive/MyDrive/House_Room_Dataset/din_1276.jpg'),\n",
              " ('Dinning', '/content/drive/MyDrive/House_Room_Dataset/din_1303.jpg'),\n",
              " ('Dinning', '/content/drive/MyDrive/House_Room_Dataset/din_1267.jpg'),\n",
              " ('Dinning', '/content/drive/MyDrive/House_Room_Dataset/din_1257.jpg'),\n",
              " ('Dinning', '/content/drive/MyDrive/House_Room_Dataset/din_1289.jpg'),\n",
              " ('Dinning', '/content/drive/MyDrive/House_Room_Dataset/din_1261.jpg'),\n",
              " ('Dinning', '/content/drive/MyDrive/House_Room_Dataset/din_1259.jpg'),\n",
              " ('Dinning', '/content/drive/MyDrive/House_Room_Dataset/din_1279.jpg'),\n",
              " ('Dinning', '/content/drive/MyDrive/House_Room_Dataset/din_1277.jpg'),\n",
              " ('Dinning', '/content/drive/MyDrive/House_Room_Dataset/din_1290.jpg'),\n",
              " ('Dinning', '/content/drive/MyDrive/House_Room_Dataset/din_1307.jpg'),\n",
              " ('Dinning', '/content/drive/MyDrive/House_Room_Dataset/din_1288.jpg'),\n",
              " ('Dinning', '/content/drive/MyDrive/House_Room_Dataset/din_1286.jpg'),\n",
              " ('Dinning', '/content/drive/MyDrive/House_Room_Dataset/din_1268.jpg'),\n",
              " ('Dinning', '/content/drive/MyDrive/House_Room_Dataset/din_1270.jpg'),\n",
              " ('Dinning', '/content/drive/MyDrive/House_Room_Dataset/din_1251.jpg'),\n",
              " ('Dinning', '/content/drive/MyDrive/House_Room_Dataset/din_1255.jpg'),\n",
              " ('Dinning', '/content/drive/MyDrive/House_Room_Dataset/din_1284.jpg'),\n",
              " ('Dinning', '/content/drive/MyDrive/House_Room_Dataset/din_1273.jpg'),\n",
              " ('Dinning', '/content/drive/MyDrive/House_Room_Dataset/din_1274.jpg'),\n",
              " ('Dinning', '/content/drive/MyDrive/House_Room_Dataset/din_1272.jpg'),\n",
              " ('Dinning', '/content/drive/MyDrive/House_Room_Dataset/din_1313.jpg'),\n",
              " ('Dinning', '/content/drive/MyDrive/House_Room_Dataset/din_128.jpg'),\n",
              " ('Dinning', '/content/drive/MyDrive/House_Room_Dataset/din_129.jpg'),\n",
              " ('Dinning', '/content/drive/MyDrive/House_Room_Dataset/din_1256.jpg'),\n",
              " ('Dinning', '/content/drive/MyDrive/House_Room_Dataset/din_1264.jpg'),\n",
              " ('Dinning', '/content/drive/MyDrive/House_Room_Dataset/din_1287.jpg'),\n",
              " ('Dinning', '/content/drive/MyDrive/House_Room_Dataset/din_1301.jpg'),\n",
              " ('Dinning', '/content/drive/MyDrive/House_Room_Dataset/din_1260.jpg'),\n",
              " ('Dinning', '/content/drive/MyDrive/House_Room_Dataset/din_1263.jpg'),\n",
              " ('Dinning', '/content/drive/MyDrive/House_Room_Dataset/din_1275.jpg'),\n",
              " ('Dinning', '/content/drive/MyDrive/House_Room_Dataset/din_1314.jpg'),\n",
              " ('Dinning', '/content/drive/MyDrive/House_Room_Dataset/din_1285.jpg'),\n",
              " ('Dinning', '/content/drive/MyDrive/House_Room_Dataset/din_1281.jpg'),\n",
              " ('Dinning', '/content/drive/MyDrive/House_Room_Dataset/din_1311.jpg'),\n",
              " ('Dinning', '/content/drive/MyDrive/House_Room_Dataset/din_1293.jpg'),\n",
              " ('Dinning', '/content/drive/MyDrive/House_Room_Dataset/din_1306.jpg'),\n",
              " ('Dinning', '/content/drive/MyDrive/House_Room_Dataset/din_1254.jpg'),\n",
              " ('Dinning', '/content/drive/MyDrive/House_Room_Dataset/din_1265.jpg'),\n",
              " ('Dinning', '/content/drive/MyDrive/House_Room_Dataset/din_1305.jpg'),\n",
              " ('Dinning', '/content/drive/MyDrive/House_Room_Dataset/din_1252.jpg'),\n",
              " ('Dinning', '/content/drive/MyDrive/House_Room_Dataset/din_1295.jpg'),\n",
              " ('Dinning', '/content/drive/MyDrive/House_Room_Dataset/din_1300.jpg'),\n",
              " ('Dinning', '/content/drive/MyDrive/House_Room_Dataset/din_1302.jpg'),\n",
              " ('Dinning', '/content/drive/MyDrive/House_Room_Dataset/din_1282.jpg'),\n",
              " ('Dinning', '/content/drive/MyDrive/House_Room_Dataset/din_137.jpg'),\n",
              " ('Dinning', '/content/drive/MyDrive/House_Room_Dataset/din_1357.jpg'),\n",
              " ('Dinning', '/content/drive/MyDrive/House_Room_Dataset/din_1321.jpg'),\n",
              " ('Dinning', '/content/drive/MyDrive/House_Room_Dataset/din_1336.jpg'),\n",
              " ('Dinning', '/content/drive/MyDrive/House_Room_Dataset/din_1342.jpg'),\n",
              " ('Dinning', '/content/drive/MyDrive/House_Room_Dataset/din_1331.jpg'),\n",
              " ('Dinning', '/content/drive/MyDrive/House_Room_Dataset/din_136.jpg'),\n",
              " ('Dinning', '/content/drive/MyDrive/House_Room_Dataset/din_1345.jpg'),\n",
              " ('Dinning', '/content/drive/MyDrive/House_Room_Dataset/din_134.jpg'),\n",
              " ('Dinning', '/content/drive/MyDrive/House_Room_Dataset/din_1354.jpg'),\n",
              " ('Dinning', '/content/drive/MyDrive/House_Room_Dataset/din_1369.jpg'),\n",
              " ('Dinning', '/content/drive/MyDrive/House_Room_Dataset/din_1351.jpg'),\n",
              " ('Dinning', '/content/drive/MyDrive/House_Room_Dataset/din_1317.jpg'),\n",
              " ('Dinning', '/content/drive/MyDrive/House_Room_Dataset/din_1341.jpg'),\n",
              " ('Dinning', '/content/drive/MyDrive/House_Room_Dataset/din_1329.jpg'),\n",
              " ('Dinning', '/content/drive/MyDrive/House_Room_Dataset/din_1359.jpg'),\n",
              " ('Dinning', '/content/drive/MyDrive/House_Room_Dataset/din_1322.jpg'),\n",
              " ('Dinning', '/content/drive/MyDrive/House_Room_Dataset/din_1368.jpg'),\n",
              " ('Dinning', '/content/drive/MyDrive/House_Room_Dataset/din_1333.jpg'),\n",
              " ('Dinning', '/content/drive/MyDrive/House_Room_Dataset/din_1349.jpg'),\n",
              " ('Dinning', '/content/drive/MyDrive/House_Room_Dataset/din_1347.jpg'),\n",
              " ('Dinning', '/content/drive/MyDrive/House_Room_Dataset/din_1356.jpg'),\n",
              " ('Dinning', '/content/drive/MyDrive/House_Room_Dataset/din_1350.jpg'),\n",
              " ('Dinning', '/content/drive/MyDrive/House_Room_Dataset/din_1360.jpg'),\n",
              " ('Dinning', '/content/drive/MyDrive/House_Room_Dataset/din_1372.jpg'),\n",
              " ('Dinning', '/content/drive/MyDrive/House_Room_Dataset/din_1316.jpg'),\n",
              " ('Dinning', '/content/drive/MyDrive/House_Room_Dataset/din_1355.jpg'),\n",
              " ('Dinning', '/content/drive/MyDrive/House_Room_Dataset/din_1370.jpg'),\n",
              " ('Dinning', '/content/drive/MyDrive/House_Room_Dataset/din_1320.jpg'),\n",
              " ('Dinning', '/content/drive/MyDrive/House_Room_Dataset/din_1363.jpg'),\n",
              " ('Dinning', '/content/drive/MyDrive/House_Room_Dataset/din_1323.jpg'),\n",
              " ('Dinning', '/content/drive/MyDrive/House_Room_Dataset/din_1358.jpg'),\n",
              " ('Dinning', '/content/drive/MyDrive/House_Room_Dataset/din_1318.jpg'),\n",
              " ('Dinning', '/content/drive/MyDrive/House_Room_Dataset/din_1340.jpg'),\n",
              " ('Dinning', '/content/drive/MyDrive/House_Room_Dataset/din_1319.jpg'),\n",
              " ('Dinning', '/content/drive/MyDrive/House_Room_Dataset/din_1339.jpg'),\n",
              " ('Dinning', '/content/drive/MyDrive/House_Room_Dataset/din_1373.jpg'),\n",
              " ('Dinning', '/content/drive/MyDrive/House_Room_Dataset/din_1353.jpg'),\n",
              " ('Dinning', '/content/drive/MyDrive/House_Room_Dataset/din_1327.jpg'),\n",
              " ('Dinning', '/content/drive/MyDrive/House_Room_Dataset/din_1364.jpg'),\n",
              " ('Dinning', '/content/drive/MyDrive/House_Room_Dataset/din_1338.jpg'),\n",
              " ('Dinning', '/content/drive/MyDrive/House_Room_Dataset/din_1344.jpg'),\n",
              " ('Dinning', '/content/drive/MyDrive/House_Room_Dataset/din_1352.jpg'),\n",
              " ('Dinning', '/content/drive/MyDrive/House_Room_Dataset/din_1325.jpg'),\n",
              " ('Dinning', '/content/drive/MyDrive/House_Room_Dataset/din_1315.jpg'),\n",
              " ('Dinning', '/content/drive/MyDrive/House_Room_Dataset/din_1362.jpg'),\n",
              " ('Dinning', '/content/drive/MyDrive/House_Room_Dataset/din_1334.jpg'),\n",
              " ('Dinning', '/content/drive/MyDrive/House_Room_Dataset/din_1324.jpg'),\n",
              " ('Dinning', '/content/drive/MyDrive/House_Room_Dataset/din_1388.jpg'),\n",
              " ('Dinning', '/content/drive/MyDrive/House_Room_Dataset/din_1395.jpg'),\n",
              " ('Dinning', '/content/drive/MyDrive/House_Room_Dataset/din_1430.jpg'),\n",
              " ('Dinning', '/content/drive/MyDrive/House_Room_Dataset/din_1439.jpg'),\n",
              " ('Dinning', '/content/drive/MyDrive/House_Room_Dataset/din_1436.jpg'),\n",
              " ('Dinning', '/content/drive/MyDrive/House_Room_Dataset/din_1410.jpg'),\n",
              " ('Dinning', '/content/drive/MyDrive/House_Room_Dataset/din_1440.jpg'),\n",
              " ('Dinning', '/content/drive/MyDrive/House_Room_Dataset/din_1431.jpg'),\n",
              " ('Dinning', '/content/drive/MyDrive/House_Room_Dataset/din_1419.jpg'),\n",
              " ('Dinning', '/content/drive/MyDrive/House_Room_Dataset/din_1428.jpg'),\n",
              " ('Dinning', '/content/drive/MyDrive/House_Room_Dataset/din_1376.jpg'),\n",
              " ('Dinning', '/content/drive/MyDrive/House_Room_Dataset/din_1414.jpg'),\n",
              " ('Dinning', '/content/drive/MyDrive/House_Room_Dataset/din_1417.jpg'),\n",
              " ('Dinning', '/content/drive/MyDrive/House_Room_Dataset/din_1381.jpg'),\n",
              " ('Dinning', '/content/drive/MyDrive/House_Room_Dataset/din_1441.jpg'),\n",
              " ('Dinning', '/content/drive/MyDrive/House_Room_Dataset/din_1408.jpg'),\n",
              " ('Dinning', '/content/drive/MyDrive/House_Room_Dataset/din_1411.jpg'),\n",
              " ('Dinning', '/content/drive/MyDrive/House_Room_Dataset/din_1375.jpg'),\n",
              " ('Dinning', '/content/drive/MyDrive/House_Room_Dataset/din_1424.jpg'),\n",
              " ('Dinning', '/content/drive/MyDrive/House_Room_Dataset/din_1432.jpg'),\n",
              " ('Dinning', '/content/drive/MyDrive/House_Room_Dataset/din_1382.jpg'),\n",
              " ('Dinning', '/content/drive/MyDrive/House_Room_Dataset/din_1438.jpg'),\n",
              " ('Dinning', '/content/drive/MyDrive/House_Room_Dataset/din_1400.jpg'),\n",
              " ('Dinning', '/content/drive/MyDrive/House_Room_Dataset/din_1406.jpg'),\n",
              " ('Dinning', '/content/drive/MyDrive/House_Room_Dataset/din_140.jpg'),\n",
              " ('Dinning', '/content/drive/MyDrive/House_Room_Dataset/din_1418.jpg'),\n",
              " ('Dinning', '/content/drive/MyDrive/House_Room_Dataset/din_1407.jpg'),\n",
              " ('Dinning', '/content/drive/MyDrive/House_Room_Dataset/din_1378.jpg'),\n",
              " ('Dinning', '/content/drive/MyDrive/House_Room_Dataset/din_1383.jpg'),\n",
              " ('Dinning', '/content/drive/MyDrive/House_Room_Dataset/din_1377.jpg'),\n",
              " ('Dinning', '/content/drive/MyDrive/House_Room_Dataset/din_139.jpg'),\n",
              " ('Dinning', '/content/drive/MyDrive/House_Room_Dataset/din_1415.jpg'),\n",
              " ('Dinning', '/content/drive/MyDrive/House_Room_Dataset/din_1402.jpg'),\n",
              " ('Dinning', '/content/drive/MyDrive/House_Room_Dataset/din_1422.jpg'),\n",
              " ('Dinning', '/content/drive/MyDrive/House_Room_Dataset/din_1404.jpg'),\n",
              " ('Dinning', '/content/drive/MyDrive/House_Room_Dataset/din_1391.jpg'),\n",
              " ('Dinning', '/content/drive/MyDrive/House_Room_Dataset/din_1409.jpg'),\n",
              " ('Dinning', '/content/drive/MyDrive/House_Room_Dataset/din_1433.jpg'),\n",
              " ('Dinning', '/content/drive/MyDrive/House_Room_Dataset/din_1399.jpg'),\n",
              " ('Dinning', '/content/drive/MyDrive/House_Room_Dataset/din_1386.jpg'),\n",
              " ('Dinning', '/content/drive/MyDrive/House_Room_Dataset/din_1390.jpg'),\n",
              " ('Dinning', '/content/drive/MyDrive/House_Room_Dataset/din_1396.jpg'),\n",
              " ('Dinning', '/content/drive/MyDrive/House_Room_Dataset/din_141.jpg'),\n",
              " ('Dinning', '/content/drive/MyDrive/House_Room_Dataset/din_1380.jpg'),\n",
              " ('Dinning', '/content/drive/MyDrive/House_Room_Dataset/din_1413.jpg'),\n",
              " ('Dinning', '/content/drive/MyDrive/House_Room_Dataset/din_1437.jpg'),\n",
              " ('Dinning', '/content/drive/MyDrive/House_Room_Dataset/din_1434.jpg'),\n",
              " ('Dinning', '/content/drive/MyDrive/House_Room_Dataset/din_1416.jpg'),\n",
              " ('Dinning', '/content/drive/MyDrive/House_Room_Dataset/din_1393.jpg'),\n",
              " ('Dinning', '/content/drive/MyDrive/House_Room_Dataset/din_1435.jpg'),\n",
              " ('Dinning', '/content/drive/MyDrive/House_Room_Dataset/din_1448.jpg'),\n",
              " ('Dinning', '/content/drive/MyDrive/House_Room_Dataset/din_1462.jpg'),\n",
              " ('Dinning', '/content/drive/MyDrive/House_Room_Dataset/din_1456.jpg'),\n",
              " ('Dinning', '/content/drive/MyDrive/House_Room_Dataset/din_1493.jpg'),\n",
              " ('Dinning', '/content/drive/MyDrive/House_Room_Dataset/din_1464.jpg'),\n",
              " ('Dinning', '/content/drive/MyDrive/House_Room_Dataset/din_1458.jpg'),\n",
              " ('Dinning', '/content/drive/MyDrive/House_Room_Dataset/din_1475.jpg'),\n",
              " ('Dinning', '/content/drive/MyDrive/House_Room_Dataset/din_1489.jpg'),\n",
              " ('Dinning', '/content/drive/MyDrive/House_Room_Dataset/din_1483.jpg'),\n",
              " ('Dinning', '/content/drive/MyDrive/House_Room_Dataset/din_1446.jpg'),\n",
              " ('Dinning', '/content/drive/MyDrive/House_Room_Dataset/din_1459.jpg'),\n",
              " ('Dinning', '/content/drive/MyDrive/House_Room_Dataset/din_1453.jpg'),\n",
              " ('Dinning', '/content/drive/MyDrive/House_Room_Dataset/din_1492.jpg'),\n",
              " ('Dinning', '/content/drive/MyDrive/House_Room_Dataset/din_1468.jpg'),\n",
              " ('Dinning', '/content/drive/MyDrive/House_Room_Dataset/din_1445.jpg'),\n",
              " ('Dinning', '/content/drive/MyDrive/House_Room_Dataset/din_1478.jpg'),\n",
              " ('Dinning', '/content/drive/MyDrive/House_Room_Dataset/din_1496.jpg'),\n",
              " ('Dinning', '/content/drive/MyDrive/House_Room_Dataset/din_1490.jpg'),\n",
              " ('Dinning', '/content/drive/MyDrive/House_Room_Dataset/din_1485.jpg'),\n",
              " ('Dinning', '/content/drive/MyDrive/House_Room_Dataset/din_1454.jpg'),\n",
              " ('Dinning', '/content/drive/MyDrive/House_Room_Dataset/din_1495.jpg'),\n",
              " ('Dinning', '/content/drive/MyDrive/House_Room_Dataset/din_147.jpg'),\n",
              " ('Dinning', '/content/drive/MyDrive/House_Room_Dataset/din_1447.jpg'),\n",
              " ('Dinning', '/content/drive/MyDrive/House_Room_Dataset/din_145.jpg'),\n",
              " ('Dinning', '/content/drive/MyDrive/House_Room_Dataset/din_1476.jpg'),\n",
              " ('Dinning', '/content/drive/MyDrive/House_Room_Dataset/din_1457.jpg'),\n",
              " ('Dinning', '/content/drive/MyDrive/House_Room_Dataset/din_1449.jpg'),\n",
              " ('Dinning', '/content/drive/MyDrive/House_Room_Dataset/din_1482.jpg'),\n",
              " ('Dinning', '/content/drive/MyDrive/House_Room_Dataset/din_1461.jpg'),\n",
              " ('Dinning', '/content/drive/MyDrive/House_Room_Dataset/din_1491.jpg'),\n",
              " ('Dinning', '/content/drive/MyDrive/House_Room_Dataset/din_1484.jpg'),\n",
              " ('Dinning', '/content/drive/MyDrive/House_Room_Dataset/din_1473.jpg'),\n",
              " ('Dinning', '/content/drive/MyDrive/House_Room_Dataset/din_1470.jpg'),\n",
              " ('Dinning', '/content/drive/MyDrive/House_Room_Dataset/din_1488.jpg'),\n",
              " ('Dinning', '/content/drive/MyDrive/House_Room_Dataset/din_1466.jpg'),\n",
              " ('Dinning', '/content/drive/MyDrive/House_Room_Dataset/din_1474.jpg'),\n",
              " ('Dinning', '/content/drive/MyDrive/House_Room_Dataset/din_1469.jpg'),\n",
              " ('Dinning', '/content/drive/MyDrive/House_Room_Dataset/din_1463.jpg'),\n",
              " ('Dinning', '/content/drive/MyDrive/House_Room_Dataset/din_1455.jpg'),\n",
              " ('Dinning', '/content/drive/MyDrive/House_Room_Dataset/din_1467.jpg'),\n",
              " ('Dinning', '/content/drive/MyDrive/House_Room_Dataset/din_146.jpg'),\n",
              " ('Dinning', '/content/drive/MyDrive/House_Room_Dataset/din_1472.jpg'),\n",
              " ('Dinning', '/content/drive/MyDrive/House_Room_Dataset/din_1451.jpg'),\n",
              " ('Dinning', '/content/drive/MyDrive/House_Room_Dataset/din_1471.jpg'),\n",
              " ('Dinning', '/content/drive/MyDrive/House_Room_Dataset/din_1443.jpg'),\n",
              " ('Dinning', '/content/drive/MyDrive/House_Room_Dataset/din_1480.jpg'),\n",
              " ('Dinning', '/content/drive/MyDrive/House_Room_Dataset/din_1494.jpg'),\n",
              " ('Dinning', '/content/drive/MyDrive/House_Room_Dataset/din_1487.jpg'),\n",
              " ('Dinning', '/content/drive/MyDrive/House_Room_Dataset/din_155.jpg'),\n",
              " ('Dinning', '/content/drive/MyDrive/House_Room_Dataset/din_1503.jpg'),\n",
              " ('Dinning', '/content/drive/MyDrive/House_Room_Dataset/din_15.jpg'),\n",
              " ('Dinning', '/content/drive/MyDrive/House_Room_Dataset/din_1525.jpg'),\n",
              " ('Dinning', '/content/drive/MyDrive/House_Room_Dataset/din_1518.jpg'),\n",
              " ('Dinning', '/content/drive/MyDrive/House_Room_Dataset/din_1556.jpg'),\n",
              " ('Dinning', '/content/drive/MyDrive/House_Room_Dataset/din_1529.jpg'),\n",
              " ('Dinning', '/content/drive/MyDrive/House_Room_Dataset/din_1533.jpg'),\n",
              " ('Dinning', '/content/drive/MyDrive/House_Room_Dataset/din_1540.jpg'),\n",
              " ('Dinning', '/content/drive/MyDrive/House_Room_Dataset/din_1551.jpg'),\n",
              " ('Dinning', '/content/drive/MyDrive/House_Room_Dataset/din_156.jpg'),\n",
              " ('Dinning', '/content/drive/MyDrive/House_Room_Dataset/din_1535.jpg'),\n",
              " ('Dinning', '/content/drive/MyDrive/House_Room_Dataset/din_1557.jpg'),\n",
              " ('Dinning', '/content/drive/MyDrive/House_Room_Dataset/din_1548.jpg'),\n",
              " ('Dinning', '/content/drive/MyDrive/House_Room_Dataset/din_1528.jpg'),\n",
              " ('Dinning', '/content/drive/MyDrive/House_Room_Dataset/din_1537.jpg'),\n",
              " ('Dinning', '/content/drive/MyDrive/House_Room_Dataset/din_1558.jpg'),\n",
              " ('Dinning', '/content/drive/MyDrive/House_Room_Dataset/din_1559.jpg'),\n",
              " ('Dinning', '/content/drive/MyDrive/House_Room_Dataset/din_1553.jpg'),\n",
              " ('Dinning', '/content/drive/MyDrive/House_Room_Dataset/din_1545.jpg'),\n",
              " ('Dinning', '/content/drive/MyDrive/House_Room_Dataset/din_1530.jpg'),\n",
              " ('Dinning', '/content/drive/MyDrive/House_Room_Dataset/din_1538.jpg'),\n",
              " ('Dinning', '/content/drive/MyDrive/House_Room_Dataset/din_1523.jpg'),\n",
              " ('Dinning', '/content/drive/MyDrive/House_Room_Dataset/din_151.jpg'),\n",
              " ('Dinning', '/content/drive/MyDrive/House_Room_Dataset/din_1536.jpg'),\n",
              " ('Dinning', '/content/drive/MyDrive/House_Room_Dataset/din_1514.jpg'),\n",
              " ('Dinning', '/content/drive/MyDrive/House_Room_Dataset/din_1505.jpg'),\n",
              " ('Dinning', '/content/drive/MyDrive/House_Room_Dataset/din_1555.jpg'),\n",
              " ('Dinning', '/content/drive/MyDrive/House_Room_Dataset/din_1497.jpg'),\n",
              " ('Dinning', '/content/drive/MyDrive/House_Room_Dataset/din_1511.jpg'),\n",
              " ('Dinning', '/content/drive/MyDrive/House_Room_Dataset/din_1507.jpg'),\n",
              " ('Dinning', '/content/drive/MyDrive/House_Room_Dataset/din_1544.jpg'),\n",
              " ('Dinning', '/content/drive/MyDrive/House_Room_Dataset/din_1531.jpg'),\n",
              " ('Dinning', '/content/drive/MyDrive/House_Room_Dataset/din_1539.jpg'),\n",
              " ('Dinning', '/content/drive/MyDrive/House_Room_Dataset/din_1508.jpg'),\n",
              " ('Dinning', '/content/drive/MyDrive/House_Room_Dataset/din_1504.jpg'),\n",
              " ('Dinning', '/content/drive/MyDrive/House_Room_Dataset/din_1499.jpg'),\n",
              " ('Dinning', '/content/drive/MyDrive/House_Room_Dataset/din_1515.jpg'),\n",
              " ('Dinning', '/content/drive/MyDrive/House_Room_Dataset/din_152.jpg'),\n",
              " ('Dinning', '/content/drive/MyDrive/House_Room_Dataset/din_153.jpg'),\n",
              " ('Dinning', '/content/drive/MyDrive/House_Room_Dataset/din_1517.jpg'),\n",
              " ('Dinning', '/content/drive/MyDrive/House_Room_Dataset/din_150.jpg'),\n",
              " ('Dinning', '/content/drive/MyDrive/House_Room_Dataset/din_1509.jpg'),\n",
              " ('Dinning', '/content/drive/MyDrive/House_Room_Dataset/din_1524.jpg'),\n",
              " ('Dinning', '/content/drive/MyDrive/House_Room_Dataset/din_1546.jpg'),\n",
              " ('Dinning', '/content/drive/MyDrive/House_Room_Dataset/din_1552.jpg'),\n",
              " ('Dinning', '/content/drive/MyDrive/House_Room_Dataset/din_1526.jpg'),\n",
              " ('Dinning', '/content/drive/MyDrive/House_Room_Dataset/din_1542.jpg'),\n",
              " ('Dinning', '/content/drive/MyDrive/House_Room_Dataset/din_1520.jpg'),\n",
              " ('Dinning', '/content/drive/MyDrive/House_Room_Dataset/din_172.jpg'),\n",
              " ('Dinning', '/content/drive/MyDrive/House_Room_Dataset/din_168.jpg'),\n",
              " ('Dinning', '/content/drive/MyDrive/House_Room_Dataset/din_1593.jpg'),\n",
              " ('Dinning', '/content/drive/MyDrive/House_Room_Dataset/din_169.jpg'),\n",
              " ('Dinning', '/content/drive/MyDrive/House_Room_Dataset/din_1577.jpg'),\n",
              " ('Dinning', '/content/drive/MyDrive/House_Room_Dataset/din_161.jpg'),\n",
              " ('Dinning', '/content/drive/MyDrive/House_Room_Dataset/din_1568.jpg'),\n",
              " ('Dinning', '/content/drive/MyDrive/House_Room_Dataset/din_1578.jpg'),\n",
              " ('Dinning', '/content/drive/MyDrive/House_Room_Dataset/din_1589.jpg'),\n",
              " ('Dinning', '/content/drive/MyDrive/House_Room_Dataset/din_177.jpg'),\n",
              " ('Dinning', '/content/drive/MyDrive/House_Room_Dataset/din_1573.jpg'),\n",
              " ('Dinning', '/content/drive/MyDrive/House_Room_Dataset/din_1588.jpg'),\n",
              " ('Dinning', '/content/drive/MyDrive/House_Room_Dataset/din_18.jpg'),\n",
              " ('Dinning', '/content/drive/MyDrive/House_Room_Dataset/din_158.jpg'),\n",
              " ('Dinning', '/content/drive/MyDrive/House_Room_Dataset/din_1580.jpg'),\n",
              " ('Dinning', '/content/drive/MyDrive/House_Room_Dataset/din_1579.jpg'),\n",
              " ('Dinning', '/content/drive/MyDrive/House_Room_Dataset/din_178.jpg'),\n",
              " ('Dinning', '/content/drive/MyDrive/House_Room_Dataset/din_1584.jpg'),\n",
              " ('Dinning', '/content/drive/MyDrive/House_Room_Dataset/din_1563.jpg'),\n",
              " ('Dinning', '/content/drive/MyDrive/House_Room_Dataset/din_1566.jpg'),\n",
              " ('Dinning', '/content/drive/MyDrive/House_Room_Dataset/din_1571.jpg'),\n",
              " ('Dinning', '/content/drive/MyDrive/House_Room_Dataset/din_1586.jpg'),\n",
              " ('Dinning', '/content/drive/MyDrive/House_Room_Dataset/din_1560.jpg'),\n",
              " ('Dinning', '/content/drive/MyDrive/House_Room_Dataset/din_166.jpg'),\n",
              " ('Dinning', '/content/drive/MyDrive/House_Room_Dataset/din_174.jpg'),\n",
              " ('Dinning', '/content/drive/MyDrive/House_Room_Dataset/din_1582.jpg'),\n",
              " ('Dinning', '/content/drive/MyDrive/House_Room_Dataset/din_160.jpg'),\n",
              " ('Dinning', '/content/drive/MyDrive/House_Room_Dataset/din_175.jpg'),\n",
              " ('Dinning', '/content/drive/MyDrive/House_Room_Dataset/din_1564.jpg'),\n",
              " ('Dinning', '/content/drive/MyDrive/House_Room_Dataset/din_170.jpg'),\n",
              " ('Dinning', '/content/drive/MyDrive/House_Room_Dataset/din_1561.jpg'),\n",
              " ('Dinning', '/content/drive/MyDrive/House_Room_Dataset/din_17.jpg'),\n",
              " ('Dinning', '/content/drive/MyDrive/House_Room_Dataset/din_157.jpg'),\n",
              " ('Dinning', '/content/drive/MyDrive/House_Room_Dataset/din_1569.jpg'),\n",
              " ('Dinning', '/content/drive/MyDrive/House_Room_Dataset/din_1574.jpg'),\n",
              " ('Dinning', '/content/drive/MyDrive/House_Room_Dataset/din_176.jpg'),\n",
              " ('Dinning', '/content/drive/MyDrive/House_Room_Dataset/din_1565.jpg'),\n",
              " ('Dinning', '/content/drive/MyDrive/House_Room_Dataset/din_1567.jpg'),\n",
              " ('Dinning', '/content/drive/MyDrive/House_Room_Dataset/din_1576.jpg'),\n",
              " ('Dinning', '/content/drive/MyDrive/House_Room_Dataset/din_1572.jpg'),\n",
              " ('Dinning', '/content/drive/MyDrive/House_Room_Dataset/din_1581.jpg'),\n",
              " ('Dinning', '/content/drive/MyDrive/House_Room_Dataset/din_1570.jpg'),\n",
              " ('Dinning', '/content/drive/MyDrive/House_Room_Dataset/din_1583.jpg'),\n",
              " ('Dinning', '/content/drive/MyDrive/House_Room_Dataset/din_159.jpg'),\n",
              " ('Dinning', '/content/drive/MyDrive/House_Room_Dataset/din_1575.jpg'),\n",
              " ('Dinning', '/content/drive/MyDrive/House_Room_Dataset/din_165.jpg'),\n",
              " ('Dinning', '/content/drive/MyDrive/House_Room_Dataset/din_239.jpg'),\n",
              " ('Dinning', '/content/drive/MyDrive/House_Room_Dataset/din_248.jpg'),\n",
              " ('Dinning', '/content/drive/MyDrive/House_Room_Dataset/din_21.jpg'),\n",
              " ('Dinning', '/content/drive/MyDrive/House_Room_Dataset/din_22.jpg'),\n",
              " ('Dinning', '/content/drive/MyDrive/House_Room_Dataset/din_196.jpg'),\n",
              " ('Dinning', '/content/drive/MyDrive/House_Room_Dataset/din_204.jpg'),\n",
              " ('Dinning', '/content/drive/MyDrive/House_Room_Dataset/din_244.jpg'),\n",
              " ('Dinning', '/content/drive/MyDrive/House_Room_Dataset/din_223.jpg'),\n",
              " ('Dinning', '/content/drive/MyDrive/House_Room_Dataset/din_23.jpg'),\n",
              " ('Dinning', '/content/drive/MyDrive/House_Room_Dataset/din_194.jpg'),\n",
              " ('Dinning', '/content/drive/MyDrive/House_Room_Dataset/din_19.jpg'),\n",
              " ('Dinning', '/content/drive/MyDrive/House_Room_Dataset/din_183.jpg'),\n",
              " ('Dinning', '/content/drive/MyDrive/House_Room_Dataset/din_207.jpg'),\n",
              " ('Dinning', '/content/drive/MyDrive/House_Room_Dataset/din_181.jpg'),\n",
              " ('Dinning', '/content/drive/MyDrive/House_Room_Dataset/din_193.jpg'),\n",
              " ('Dinning', '/content/drive/MyDrive/House_Room_Dataset/din_25.jpg'),\n",
              " ('Dinning', '/content/drive/MyDrive/House_Room_Dataset/din_222.jpg'),\n",
              " ('Dinning', '/content/drive/MyDrive/House_Room_Dataset/din_214.jpg'),\n",
              " ('Dinning', '/content/drive/MyDrive/House_Room_Dataset/din_187.jpg'),\n",
              " ('Dinning', '/content/drive/MyDrive/House_Room_Dataset/din_20.jpg'),\n",
              " ('Dinning', '/content/drive/MyDrive/House_Room_Dataset/din_228.jpg'),\n",
              " ('Dinning', '/content/drive/MyDrive/House_Room_Dataset/din_208.jpg'),\n",
              " ('Dinning', '/content/drive/MyDrive/House_Room_Dataset/din_220.jpg'),\n",
              " ('Dinning', '/content/drive/MyDrive/House_Room_Dataset/din_180.jpg'),\n",
              " ('Dinning', '/content/drive/MyDrive/House_Room_Dataset/din_237.jpg'),\n",
              " ('Dinning', '/content/drive/MyDrive/House_Room_Dataset/din_226.jpg'),\n",
              " ('Dinning', '/content/drive/MyDrive/House_Room_Dataset/din_246.jpg'),\n",
              " ('Dinning', '/content/drive/MyDrive/House_Room_Dataset/din_236.jpg'),\n",
              " ('Dinning', '/content/drive/MyDrive/House_Room_Dataset/din_210.jpg'),\n",
              " ('Dinning', '/content/drive/MyDrive/House_Room_Dataset/din_184.jpg'),\n",
              " ('Dinning', '/content/drive/MyDrive/House_Room_Dataset/din_24.jpg'),\n",
              " ('Dinning', '/content/drive/MyDrive/House_Room_Dataset/din_201.jpg'),\n",
              " ('Dinning', '/content/drive/MyDrive/House_Room_Dataset/din_230.jpg'),\n",
              " ('Dinning', '/content/drive/MyDrive/House_Room_Dataset/din_242.jpg'),\n",
              " ('Dinning', '/content/drive/MyDrive/House_Room_Dataset/din_243.jpg'),\n",
              " ('Dinning', '/content/drive/MyDrive/House_Room_Dataset/din_235.jpg'),\n",
              " ('Dinning', '/content/drive/MyDrive/House_Room_Dataset/din_189.jpg'),\n",
              " ('Dinning', '/content/drive/MyDrive/House_Room_Dataset/din_188.jpg'),\n",
              " ('Dinning', '/content/drive/MyDrive/House_Room_Dataset/din_185.jpg'),\n",
              " ('Dinning', '/content/drive/MyDrive/House_Room_Dataset/din_247.jpg'),\n",
              " ('Dinning', '/content/drive/MyDrive/House_Room_Dataset/din_231.jpg'),\n",
              " ('Dinning', '/content/drive/MyDrive/House_Room_Dataset/din_227.jpg'),\n",
              " ('Dinning', '/content/drive/MyDrive/House_Room_Dataset/din_203.jpg'),\n",
              " ('Dinning', '/content/drive/MyDrive/House_Room_Dataset/din_240.jpg'),\n",
              " ('Dinning', '/content/drive/MyDrive/House_Room_Dataset/din_238.jpg'),\n",
              " ('Dinning', '/content/drive/MyDrive/House_Room_Dataset/din_229.jpg'),\n",
              " ('Dinning', '/content/drive/MyDrive/House_Room_Dataset/din_213.jpg'),\n",
              " ('Dinning', '/content/drive/MyDrive/House_Room_Dataset/din_197.jpg'),\n",
              " ('Dinning', '/content/drive/MyDrive/House_Room_Dataset/din_29.jpg'),\n",
              " ('Dinning', '/content/drive/MyDrive/House_Room_Dataset/din_257.jpg'),\n",
              " ('Dinning', '/content/drive/MyDrive/House_Room_Dataset/din_3.jpg'),\n",
              " ('Dinning', '/content/drive/MyDrive/House_Room_Dataset/din_308.jpg'),\n",
              " ('Dinning', '/content/drive/MyDrive/House_Room_Dataset/din_298.jpg'),\n",
              " ('Dinning', '/content/drive/MyDrive/House_Room_Dataset/din_266.jpg'),\n",
              " ('Dinning', '/content/drive/MyDrive/House_Room_Dataset/din_264.jpg'),\n",
              " ('Dinning', '/content/drive/MyDrive/House_Room_Dataset/din_272.jpg'),\n",
              " ('Dinning', '/content/drive/MyDrive/House_Room_Dataset/din_284.jpg'),\n",
              " ('Dinning', '/content/drive/MyDrive/House_Room_Dataset/din_279.jpg'),\n",
              " ('Dinning', '/content/drive/MyDrive/House_Room_Dataset/din_258.jpg'),\n",
              " ('Dinning', '/content/drive/MyDrive/House_Room_Dataset/din_307.jpg'),\n",
              " ('Dinning', '/content/drive/MyDrive/House_Room_Dataset/din_251.jpg'),\n",
              " ('Dinning', '/content/drive/MyDrive/House_Room_Dataset/din_281.jpg'),\n",
              " ('Dinning', '/content/drive/MyDrive/House_Room_Dataset/din_259.jpg'),\n",
              " ('Dinning', '/content/drive/MyDrive/House_Room_Dataset/din_260.jpg'),\n",
              " ('Dinning', '/content/drive/MyDrive/House_Room_Dataset/din_261.jpg'),\n",
              " ('Dinning', '/content/drive/MyDrive/House_Room_Dataset/din_305.jpg'),\n",
              " ('Dinning', '/content/drive/MyDrive/House_Room_Dataset/din_301.jpg'),\n",
              " ('Dinning', '/content/drive/MyDrive/House_Room_Dataset/din_263.jpg'),\n",
              " ('Dinning', '/content/drive/MyDrive/House_Room_Dataset/din_294.jpg'),\n",
              " ('Dinning', '/content/drive/MyDrive/House_Room_Dataset/din_304.jpg'),\n",
              " ('Dinning', '/content/drive/MyDrive/House_Room_Dataset/din_255.jpg'),\n",
              " ('Dinning', '/content/drive/MyDrive/House_Room_Dataset/din_253.jpg'),\n",
              " ('Dinning', '/content/drive/MyDrive/House_Room_Dataset/din_31.jpg'),\n",
              " ('Dinning', '/content/drive/MyDrive/House_Room_Dataset/din_309.jpg'),\n",
              " ('Dinning', '/content/drive/MyDrive/House_Room_Dataset/din_288.jpg'),\n",
              " ('Dinning', '/content/drive/MyDrive/House_Room_Dataset/din_303.jpg'),\n",
              " ('Dinning', '/content/drive/MyDrive/House_Room_Dataset/din_278.jpg'),\n",
              " ('Dinning', '/content/drive/MyDrive/House_Room_Dataset/din_270.jpg'),\n",
              " ('Dinning', '/content/drive/MyDrive/House_Room_Dataset/din_265.jpg'),\n",
              " ('Dinning', '/content/drive/MyDrive/House_Room_Dataset/din_276.jpg'),\n",
              " ('Dinning', '/content/drive/MyDrive/House_Room_Dataset/din_283.jpg'),\n",
              " ('Dinning', '/content/drive/MyDrive/House_Room_Dataset/din_297.jpg'),\n",
              " ('Dinning', '/content/drive/MyDrive/House_Room_Dataset/din_275.jpg'),\n",
              " ('Dinning', '/content/drive/MyDrive/House_Room_Dataset/din_254.jpg'),\n",
              " ('Dinning', '/content/drive/MyDrive/House_Room_Dataset/din_292.jpg'),\n",
              " ('Dinning', '/content/drive/MyDrive/House_Room_Dataset/din_296.jpg'),\n",
              " ('Dinning', '/content/drive/MyDrive/House_Room_Dataset/din_274.jpg'),\n",
              " ('Dinning', '/content/drive/MyDrive/House_Room_Dataset/din_273.jpg'),\n",
              " ('Dinning', '/content/drive/MyDrive/House_Room_Dataset/din_280.jpg'),\n",
              " ('Dinning', '/content/drive/MyDrive/House_Room_Dataset/din_267.jpg'),\n",
              " ('Dinning', '/content/drive/MyDrive/House_Room_Dataset/din_268.jpg'),\n",
              " ('Dinning', '/content/drive/MyDrive/House_Room_Dataset/din_293.jpg'),\n",
              " ('Dinning', '/content/drive/MyDrive/House_Room_Dataset/din_302.jpg'),\n",
              " ('Dinning', '/content/drive/MyDrive/House_Room_Dataset/din_28.jpg'),\n",
              " ('Dinning', '/content/drive/MyDrive/House_Room_Dataset/din_299.jpg'),\n",
              " ('Dinning', '/content/drive/MyDrive/House_Room_Dataset/din_300.jpg'),\n",
              " ('Dinning', '/content/drive/MyDrive/House_Room_Dataset/din_295.jpg'),\n",
              " ('Dinning', '/content/drive/MyDrive/House_Room_Dataset/din_365.jpg'),\n",
              " ('Dinning', '/content/drive/MyDrive/House_Room_Dataset/din_362.jpg'),\n",
              " ('Dinning', '/content/drive/MyDrive/House_Room_Dataset/din_347.jpg'),\n",
              " ('Dinning', '/content/drive/MyDrive/House_Room_Dataset/din_357.jpg'),\n",
              " ('Dinning', '/content/drive/MyDrive/House_Room_Dataset/din_354.jpg'),\n",
              " ('Dinning', '/content/drive/MyDrive/House_Room_Dataset/din_367.jpg'),\n",
              " ('Dinning', '/content/drive/MyDrive/House_Room_Dataset/din_351.jpg'),\n",
              " ('Dinning', '/content/drive/MyDrive/House_Room_Dataset/din_361.jpg'),\n",
              " ('Dinning', '/content/drive/MyDrive/House_Room_Dataset/din_366.jpg'),\n",
              " ('Dinning', '/content/drive/MyDrive/House_Room_Dataset/din_364.jpg'),\n",
              " ('Dinning', '/content/drive/MyDrive/House_Room_Dataset/din_336.jpg'),\n",
              " ('Dinning', '/content/drive/MyDrive/House_Room_Dataset/din_310.jpg'),\n",
              " ('Dinning', '/content/drive/MyDrive/House_Room_Dataset/din_333.jpg'),\n",
              " ('Dinning', '/content/drive/MyDrive/House_Room_Dataset/din_349.jpg'),\n",
              " ('Dinning', '/content/drive/MyDrive/House_Room_Dataset/din_318.jpg'),\n",
              " ('Dinning', '/content/drive/MyDrive/House_Room_Dataset/din_319.jpg'),\n",
              " ('Dinning', '/content/drive/MyDrive/House_Room_Dataset/din_368.jpg'),\n",
              " ('Dinning', '/content/drive/MyDrive/House_Room_Dataset/din_322.jpg'),\n",
              " ('Dinning', '/content/drive/MyDrive/House_Room_Dataset/din_332.jpg'),\n",
              " ('Dinning', '/content/drive/MyDrive/House_Room_Dataset/din_316.jpg'),\n",
              " ('Dinning', '/content/drive/MyDrive/House_Room_Dataset/din_35.jpg'),\n",
              " ('Dinning', '/content/drive/MyDrive/House_Room_Dataset/din_37.jpg'),\n",
              " ('Dinning', '/content/drive/MyDrive/House_Room_Dataset/din_350.jpg'),\n",
              " ('Dinning', '/content/drive/MyDrive/House_Room_Dataset/din_317.jpg'),\n",
              " ('Dinning', '/content/drive/MyDrive/House_Room_Dataset/din_334.jpg'),\n",
              " ('Dinning', '/content/drive/MyDrive/House_Room_Dataset/din_320.jpg'),\n",
              " ('Dinning', '/content/drive/MyDrive/House_Room_Dataset/din_343.jpg'),\n",
              " ('Dinning', '/content/drive/MyDrive/House_Room_Dataset/din_33.jpg'),\n",
              " ('Dinning', '/content/drive/MyDrive/House_Room_Dataset/din_323.jpg'),\n",
              " ('Dinning', '/content/drive/MyDrive/House_Room_Dataset/din_326.jpg'),\n",
              " ('Dinning', '/content/drive/MyDrive/House_Room_Dataset/din_313.jpg'),\n",
              " ('Dinning', '/content/drive/MyDrive/House_Room_Dataset/din_370.jpg'),\n",
              " ('Dinning', '/content/drive/MyDrive/House_Room_Dataset/din_312.jpg'),\n",
              " ('Dinning', '/content/drive/MyDrive/House_Room_Dataset/din_339.jpg'),\n",
              " ('Dinning', '/content/drive/MyDrive/House_Room_Dataset/din_329.jpg'),\n",
              " ('Dinning', '/content/drive/MyDrive/House_Room_Dataset/din_346.jpg'),\n",
              " ('Dinning', '/content/drive/MyDrive/House_Room_Dataset/din_311.jpg'),\n",
              " ('Dinning', '/content/drive/MyDrive/House_Room_Dataset/din_330.jpg'),\n",
              " ('Dinning', '/content/drive/MyDrive/House_Room_Dataset/din_356.jpg'),\n",
              " ('Dinning', '/content/drive/MyDrive/House_Room_Dataset/din_338.jpg'),\n",
              " ('Dinning', '/content/drive/MyDrive/House_Room_Dataset/din_369.jpg'),\n",
              " ('Dinning', '/content/drive/MyDrive/House_Room_Dataset/din_363.jpg'),\n",
              " ('Dinning', '/content/drive/MyDrive/House_Room_Dataset/din_34.jpg'),\n",
              " ('Dinning', '/content/drive/MyDrive/House_Room_Dataset/din_340.jpg'),\n",
              " ('Dinning', '/content/drive/MyDrive/House_Room_Dataset/din_314.jpg'),\n",
              " ('Dinning', '/content/drive/MyDrive/House_Room_Dataset/din_331.jpg'),\n",
              " ('Dinning', '/content/drive/MyDrive/House_Room_Dataset/din_358.jpg'),\n",
              " ('Dinning', '/content/drive/MyDrive/House_Room_Dataset/din_352.jpg'),\n",
              " ('Dinning', '/content/drive/MyDrive/House_Room_Dataset/din_372.jpg'),\n",
              " ('Dinning', '/content/drive/MyDrive/House_Room_Dataset/din_378.jpg'),\n",
              " ('Dinning', '/content/drive/MyDrive/House_Room_Dataset/din_426.jpg'),\n",
              " ('Dinning', '/content/drive/MyDrive/House_Room_Dataset/din_390.jpg'),\n",
              " ('Dinning', '/content/drive/MyDrive/House_Room_Dataset/din_407.jpg'),\n",
              " ('Dinning', '/content/drive/MyDrive/House_Room_Dataset/din_419.jpg'),\n",
              " ('Dinning', '/content/drive/MyDrive/House_Room_Dataset/din_376.jpg'),\n",
              " ('Dinning', '/content/drive/MyDrive/House_Room_Dataset/din_400.jpg'),\n",
              " ('Dinning', '/content/drive/MyDrive/House_Room_Dataset/din_409.jpg'),\n",
              " ('Dinning', '/content/drive/MyDrive/House_Room_Dataset/din_392.jpg'),\n",
              " ('Dinning', '/content/drive/MyDrive/House_Room_Dataset/din_39.jpg'),\n",
              " ('Dinning', '/content/drive/MyDrive/House_Room_Dataset/din_388.jpg'),\n",
              " ('Dinning', '/content/drive/MyDrive/House_Room_Dataset/din_379.jpg'),\n",
              " ('Dinning', '/content/drive/MyDrive/House_Room_Dataset/din_397.jpg'),\n",
              " ('Dinning', '/content/drive/MyDrive/House_Room_Dataset/din_422.jpg'),\n",
              " ('Dinning', '/content/drive/MyDrive/House_Room_Dataset/din_393.jpg'),\n",
              " ('Dinning', '/content/drive/MyDrive/House_Room_Dataset/din_418.jpg'),\n",
              " ('Dinning', '/content/drive/MyDrive/House_Room_Dataset/din_383.jpg'),\n",
              " ('Dinning', '/content/drive/MyDrive/House_Room_Dataset/din_421.jpg'),\n",
              " ('Dinning', '/content/drive/MyDrive/House_Room_Dataset/din_42.jpg'),\n",
              " ('Dinning', '/content/drive/MyDrive/House_Room_Dataset/din_412.jpg'),\n",
              " ('Dinning', '/content/drive/MyDrive/House_Room_Dataset/din_399.jpg'),\n",
              " ('Dinning', '/content/drive/MyDrive/House_Room_Dataset/din_373.jpg'),\n",
              " ('Dinning', '/content/drive/MyDrive/House_Room_Dataset/din_4.jpg'),\n",
              " ('Dinning', '/content/drive/MyDrive/House_Room_Dataset/din_415.jpg'),\n",
              " ('Dinning', '/content/drive/MyDrive/House_Room_Dataset/din_394.jpg'),\n",
              " ('Dinning', '/content/drive/MyDrive/House_Room_Dataset/din_41.jpg'),\n",
              " ('Dinning', '/content/drive/MyDrive/House_Room_Dataset/din_410.jpg'),\n",
              " ('Dinning', '/content/drive/MyDrive/House_Room_Dataset/din_377.jpg'),\n",
              " ('Dinning', '/content/drive/MyDrive/House_Room_Dataset/din_385.jpg'),\n",
              " ('Dinning', '/content/drive/MyDrive/House_Room_Dataset/din_398.jpg'),\n",
              " ('Dinning', '/content/drive/MyDrive/House_Room_Dataset/din_424.jpg'),\n",
              " ('Dinning', '/content/drive/MyDrive/House_Room_Dataset/din_408.jpg'),\n",
              " ('Dinning', '/content/drive/MyDrive/House_Room_Dataset/din_403.jpg'),\n",
              " ('Dinning', '/content/drive/MyDrive/House_Room_Dataset/din_381.jpg'),\n",
              " ('Dinning', '/content/drive/MyDrive/House_Room_Dataset/din_384.jpg'),\n",
              " ('Dinning', '/content/drive/MyDrive/House_Room_Dataset/din_386.jpg'),\n",
              " ('Dinning', '/content/drive/MyDrive/House_Room_Dataset/din_402.jpg'),\n",
              " ('Dinning', '/content/drive/MyDrive/House_Room_Dataset/din_405.jpg'),\n",
              " ('Dinning', '/content/drive/MyDrive/House_Room_Dataset/din_425.jpg'),\n",
              " ('Dinning', '/content/drive/MyDrive/House_Room_Dataset/din_420.jpg'),\n",
              " ('Dinning', '/content/drive/MyDrive/House_Room_Dataset/din_396.jpg'),\n",
              " ('Dinning', '/content/drive/MyDrive/House_Room_Dataset/din_395.jpg'),\n",
              " ('Dinning', '/content/drive/MyDrive/House_Room_Dataset/din_417.jpg'),\n",
              " ('Dinning', '/content/drive/MyDrive/House_Room_Dataset/din_404.jpg'),\n",
              " ('Dinning', '/content/drive/MyDrive/House_Room_Dataset/din_413.jpg'),\n",
              " ('Dinning', '/content/drive/MyDrive/House_Room_Dataset/din_380.jpg'),\n",
              " ('Dinning', '/content/drive/MyDrive/House_Room_Dataset/din_391.jpg'),\n",
              " ('Dinning', '/content/drive/MyDrive/House_Room_Dataset/din_387.jpg'),\n",
              " ('Dinning', '/content/drive/MyDrive/House_Room_Dataset/din_427.jpg'),\n",
              " ('Dinning', '/content/drive/MyDrive/House_Room_Dataset/din_474.jpg'),\n",
              " ('Dinning', '/content/drive/MyDrive/House_Room_Dataset/din_47.jpg'),\n",
              " ('Dinning', '/content/drive/MyDrive/House_Room_Dataset/din_445.jpg'),\n",
              " ('Dinning', '/content/drive/MyDrive/House_Room_Dataset/din_43.jpg'),\n",
              " ('Dinning', '/content/drive/MyDrive/House_Room_Dataset/din_46.jpg'),\n",
              " ('Dinning', '/content/drive/MyDrive/House_Room_Dataset/din_453.jpg'),\n",
              " ('Dinning', '/content/drive/MyDrive/House_Room_Dataset/din_471.jpg'),\n",
              " ('Dinning', '/content/drive/MyDrive/House_Room_Dataset/din_448.jpg'),\n",
              " ('Dinning', '/content/drive/MyDrive/House_Room_Dataset/din_489.jpg'),\n",
              " ('Dinning', '/content/drive/MyDrive/House_Room_Dataset/din_48.jpg'),\n",
              " ('Dinning', '/content/drive/MyDrive/House_Room_Dataset/din_468.jpg'),\n",
              " ('Dinning', '/content/drive/MyDrive/House_Room_Dataset/din_441.jpg'),\n",
              " ('Dinning', '/content/drive/MyDrive/House_Room_Dataset/din_433.jpg'),\n",
              " ('Dinning', '/content/drive/MyDrive/House_Room_Dataset/din_443.jpg'),\n",
              " ('Dinning', '/content/drive/MyDrive/House_Room_Dataset/din_449.jpg'),\n",
              " ('Dinning', '/content/drive/MyDrive/House_Room_Dataset/din_45.jpg'),\n",
              " ('Dinning', '/content/drive/MyDrive/House_Room_Dataset/din_450.jpg'),\n",
              " ('Dinning', '/content/drive/MyDrive/House_Room_Dataset/din_461.jpg'),\n",
              " ('Dinning', '/content/drive/MyDrive/House_Room_Dataset/din_430.jpg'),\n",
              " ('Dinning', '/content/drive/MyDrive/House_Room_Dataset/din_446.jpg'),\n",
              " ('Dinning', '/content/drive/MyDrive/House_Room_Dataset/din_459.jpg'),\n",
              " ('Dinning', '/content/drive/MyDrive/House_Room_Dataset/din_497.jpg'),\n",
              " ('Dinning', '/content/drive/MyDrive/House_Room_Dataset/din_493.jpg'),\n",
              " ('Dinning', '/content/drive/MyDrive/House_Room_Dataset/din_495.jpg'),\n",
              " ('Dinning', '/content/drive/MyDrive/House_Room_Dataset/din_480.jpg'),\n",
              " ('Dinning', '/content/drive/MyDrive/House_Room_Dataset/din_465.jpg'),\n",
              " ('Dinning', '/content/drive/MyDrive/House_Room_Dataset/din_431.jpg'),\n",
              " ('Dinning', '/content/drive/MyDrive/House_Room_Dataset/din_458.jpg'),\n",
              " ('Dinning', '/content/drive/MyDrive/House_Room_Dataset/din_486.jpg'),\n",
              " ('Dinning', '/content/drive/MyDrive/House_Room_Dataset/din_442.jpg'),\n",
              " ('Dinning', '/content/drive/MyDrive/House_Room_Dataset/din_455.jpg'),\n",
              " ('Dinning', '/content/drive/MyDrive/House_Room_Dataset/din_478.jpg'),\n",
              " ('Dinning', '/content/drive/MyDrive/House_Room_Dataset/din_429.jpg'),\n",
              " ('Dinning', '/content/drive/MyDrive/House_Room_Dataset/din_44.jpg'),\n",
              " ('Dinning', '/content/drive/MyDrive/House_Room_Dataset/din_462.jpg'),\n",
              " ('Dinning', '/content/drive/MyDrive/House_Room_Dataset/din_447.jpg'),\n",
              " ('Dinning', '/content/drive/MyDrive/House_Room_Dataset/din_466.jpg'),\n",
              " ('Dinning', '/content/drive/MyDrive/House_Room_Dataset/din_435.jpg'),\n",
              " ('Dinning', '/content/drive/MyDrive/House_Room_Dataset/din_432.jpg'),\n",
              " ('Dinning', '/content/drive/MyDrive/House_Room_Dataset/din_472.jpg'),\n",
              " ('Dinning', '/content/drive/MyDrive/House_Room_Dataset/din_496.jpg'),\n",
              " ('Dinning', '/content/drive/MyDrive/House_Room_Dataset/din_481.jpg'),\n",
              " ('Dinning', '/content/drive/MyDrive/House_Room_Dataset/din_483.jpg'),\n",
              " ('Dinning', '/content/drive/MyDrive/House_Room_Dataset/din_460.jpg'),\n",
              " ('Dinning', '/content/drive/MyDrive/House_Room_Dataset/din_485.jpg'),\n",
              " ('Dinning', '/content/drive/MyDrive/House_Room_Dataset/din_452.jpg'),\n",
              " ('Dinning', '/content/drive/MyDrive/House_Room_Dataset/din_479.jpg'),\n",
              " ('Dinning', '/content/drive/MyDrive/House_Room_Dataset/din_477.jpg'),\n",
              " ('Dinning', '/content/drive/MyDrive/House_Room_Dataset/din_534.jpg'),\n",
              " ('Dinning', '/content/drive/MyDrive/House_Room_Dataset/din_540.jpg'),\n",
              " ('Dinning', '/content/drive/MyDrive/House_Room_Dataset/din_518.jpg'),\n",
              " ('Dinning', '/content/drive/MyDrive/House_Room_Dataset/din_535.jpg'),\n",
              " ('Dinning', '/content/drive/MyDrive/House_Room_Dataset/din_531.jpg'),\n",
              " ('Dinning', '/content/drive/MyDrive/House_Room_Dataset/din_560.jpg'),\n",
              " ('Dinning', '/content/drive/MyDrive/House_Room_Dataset/din_546.jpg'),\n",
              " ('Dinning', '/content/drive/MyDrive/House_Room_Dataset/din_562.jpg'),\n",
              " ('Dinning', '/content/drive/MyDrive/House_Room_Dataset/din_55.jpg'),\n",
              " ('Dinning', '/content/drive/MyDrive/House_Room_Dataset/din_523.jpg'),\n",
              " ('Dinning', '/content/drive/MyDrive/House_Room_Dataset/din_530.jpg'),\n",
              " ('Dinning', '/content/drive/MyDrive/House_Room_Dataset/din_532.jpg'),\n",
              " ('Dinning', '/content/drive/MyDrive/House_Room_Dataset/din_520.jpg'),\n",
              " ('Dinning', '/content/drive/MyDrive/House_Room_Dataset/din_514.jpg'),\n",
              " ('Dinning', '/content/drive/MyDrive/House_Room_Dataset/din_54.jpg'),\n",
              " ('Dinning', '/content/drive/MyDrive/House_Room_Dataset/din_545.jpg'),\n",
              " ('Dinning', '/content/drive/MyDrive/House_Room_Dataset/din_509.jpg'),\n",
              " ('Dinning', '/content/drive/MyDrive/House_Room_Dataset/din_515.jpg'),\n",
              " ('Dinning', '/content/drive/MyDrive/House_Room_Dataset/din_550.jpg'),\n",
              " ('Dinning', '/content/drive/MyDrive/House_Room_Dataset/din_548.jpg'),\n",
              " ('Dinning', '/content/drive/MyDrive/House_Room_Dataset/din_533.jpg'),\n",
              " ('Dinning', '/content/drive/MyDrive/House_Room_Dataset/din_539.jpg'),\n",
              " ('Dinning', '/content/drive/MyDrive/House_Room_Dataset/din_549.jpg'),\n",
              " ('Dinning', '/content/drive/MyDrive/House_Room_Dataset/din_499.jpg'),\n",
              " ('Dinning', '/content/drive/MyDrive/House_Room_Dataset/din_557.jpg'),\n",
              " ('Dinning', '/content/drive/MyDrive/House_Room_Dataset/din_516.jpg'),\n",
              " ('Dinning', '/content/drive/MyDrive/House_Room_Dataset/din_504.jpg'),\n",
              " ('Dinning', '/content/drive/MyDrive/House_Room_Dataset/din_544.jpg'),\n",
              " ('Dinning', '/content/drive/MyDrive/House_Room_Dataset/din_56.jpg'),\n",
              " ('Dinning', '/content/drive/MyDrive/House_Room_Dataset/din_510.jpg'),\n",
              " ('Dinning', '/content/drive/MyDrive/House_Room_Dataset/din_512.jpg'),\n",
              " ('Dinning', '/content/drive/MyDrive/House_Room_Dataset/din_552.jpg'),\n",
              " ('Dinning', '/content/drive/MyDrive/House_Room_Dataset/din_563.jpg'),\n",
              " ('Dinning', '/content/drive/MyDrive/House_Room_Dataset/din_500.jpg'),\n",
              " ('Dinning', '/content/drive/MyDrive/House_Room_Dataset/din_505.jpg'),\n",
              " ('Dinning', '/content/drive/MyDrive/House_Room_Dataset/din_564.jpg'),\n",
              " ('Dinning', '/content/drive/MyDrive/House_Room_Dataset/din_524.jpg'),\n",
              " ('Dinning', '/content/drive/MyDrive/House_Room_Dataset/din_547.jpg'),\n",
              " ('Dinning', '/content/drive/MyDrive/House_Room_Dataset/din_555.jpg'),\n",
              " ('Dinning', '/content/drive/MyDrive/House_Room_Dataset/din_52.jpg'),\n",
              " ('Dinning', '/content/drive/MyDrive/House_Room_Dataset/din_503.jpg'),\n",
              " ('Dinning', '/content/drive/MyDrive/House_Room_Dataset/din_538.jpg'),\n",
              " ('Dinning', '/content/drive/MyDrive/House_Room_Dataset/din_508.jpg'),\n",
              " ('Dinning', '/content/drive/MyDrive/House_Room_Dataset/din_501.jpg'),\n",
              " ('Dinning', '/content/drive/MyDrive/House_Room_Dataset/din_556.jpg'),\n",
              " ('Dinning', '/content/drive/MyDrive/House_Room_Dataset/din_542.jpg'),\n",
              " ('Dinning', '/content/drive/MyDrive/House_Room_Dataset/din_50.jpg'),\n",
              " ('Dinning', '/content/drive/MyDrive/House_Room_Dataset/din_526.jpg'),\n",
              " ('Dinning', '/content/drive/MyDrive/House_Room_Dataset/din_601.jpg'),\n",
              " ('Dinning', '/content/drive/MyDrive/House_Room_Dataset/din_611.jpg'),\n",
              " ('Dinning', '/content/drive/MyDrive/House_Room_Dataset/din_609.jpg'),\n",
              " ('Dinning', '/content/drive/MyDrive/House_Room_Dataset/din_62.jpg'),\n",
              " ('Dinning', '/content/drive/MyDrive/House_Room_Dataset/din_589.jpg'),\n",
              " ('Dinning', '/content/drive/MyDrive/House_Room_Dataset/din_6.jpg'),\n",
              " ('Dinning', '/content/drive/MyDrive/House_Room_Dataset/din_59.jpg'),\n",
              " ('Dinning', '/content/drive/MyDrive/House_Room_Dataset/din_572.jpg'),\n",
              " ('Dinning', '/content/drive/MyDrive/House_Room_Dataset/din_574.jpg'),\n",
              " ('Dinning', '/content/drive/MyDrive/House_Room_Dataset/din_60.jpg'),\n",
              " ('Dinning', '/content/drive/MyDrive/House_Room_Dataset/din_592.jpg'),\n",
              " ('Dinning', '/content/drive/MyDrive/House_Room_Dataset/din_585.jpg'),\n",
              " ('Dinning', '/content/drive/MyDrive/House_Room_Dataset/din_596.jpg'),\n",
              " ('Dinning', '/content/drive/MyDrive/House_Room_Dataset/din_608.jpg'),\n",
              " ('Dinning', '/content/drive/MyDrive/House_Room_Dataset/din_615.jpg'),\n",
              " ('Dinning', '/content/drive/MyDrive/House_Room_Dataset/din_567.jpg'),\n",
              " ('Dinning', '/content/drive/MyDrive/House_Room_Dataset/din_582.jpg'),\n",
              " ('Dinning', '/content/drive/MyDrive/House_Room_Dataset/din_58.jpg'),\n",
              " ('Dinning', '/content/drive/MyDrive/House_Room_Dataset/din_591.jpg'),\n",
              " ('Dinning', '/content/drive/MyDrive/House_Room_Dataset/din_61.jpg'),\n",
              " ('Dinning', '/content/drive/MyDrive/House_Room_Dataset/din_581.jpg'),\n",
              " ('Dinning', '/content/drive/MyDrive/House_Room_Dataset/din_573.jpg'),\n",
              " ('Dinning', '/content/drive/MyDrive/House_Room_Dataset/din_619.jpg'),\n",
              " ('Dinning', '/content/drive/MyDrive/House_Room_Dataset/din_595.jpg'),\n",
              " ('Dinning', '/content/drive/MyDrive/House_Room_Dataset/din_588.jpg'),\n",
              " ('Dinning', '/content/drive/MyDrive/House_Room_Dataset/din_569.jpg'),\n",
              " ('Dinning', '/content/drive/MyDrive/House_Room_Dataset/din_580.jpg'),\n",
              " ('Dinning', '/content/drive/MyDrive/House_Room_Dataset/din_568.jpg'),\n",
              " ('Dinning', '/content/drive/MyDrive/House_Room_Dataset/din_57.jpg'),\n",
              " ('Dinning', '/content/drive/MyDrive/House_Room_Dataset/din_593.jpg'),\n",
              " ('Dinning', '/content/drive/MyDrive/House_Room_Dataset/din_579.jpg'),\n",
              " ('Dinning', '/content/drive/MyDrive/House_Room_Dataset/din_597.jpg'),\n",
              " ('Dinning', '/content/drive/MyDrive/House_Room_Dataset/din_578.jpg'),\n",
              " ('Dinning', '/content/drive/MyDrive/House_Room_Dataset/din_604.jpg'),\n",
              " ('Dinning', '/content/drive/MyDrive/House_Room_Dataset/din_570.jpg'),\n",
              " ('Dinning', '/content/drive/MyDrive/House_Room_Dataset/din_576.jpg'),\n",
              " ('Dinning', '/content/drive/MyDrive/House_Room_Dataset/din_584.jpg'),\n",
              " ('Dinning', '/content/drive/MyDrive/House_Room_Dataset/din_616.jpg'),\n",
              " ('Dinning', '/content/drive/MyDrive/House_Room_Dataset/din_586.jpg'),\n",
              " ('Dinning', '/content/drive/MyDrive/House_Room_Dataset/din_605.jpg'),\n",
              " ('Dinning', '/content/drive/MyDrive/House_Room_Dataset/din_594.jpg'),\n",
              " ('Dinning', '/content/drive/MyDrive/House_Room_Dataset/din_575.jpg'),\n",
              " ('Dinning', '/content/drive/MyDrive/House_Room_Dataset/din_617.jpg'),\n",
              " ('Dinning', '/content/drive/MyDrive/House_Room_Dataset/din_566.jpg'),\n",
              " ('Dinning', '/content/drive/MyDrive/House_Room_Dataset/din_600.jpg'),\n",
              " ('Dinning', '/content/drive/MyDrive/House_Room_Dataset/din_583.jpg'),\n",
              " ('Dinning', '/content/drive/MyDrive/House_Room_Dataset/din_620.jpg'),\n",
              " ('Dinning', '/content/drive/MyDrive/House_Room_Dataset/din_613.jpg'),\n",
              " ('Dinning', '/content/drive/MyDrive/House_Room_Dataset/din_587.jpg'),\n",
              " ('Dinning', '/content/drive/MyDrive/House_Room_Dataset/din_66.jpg'),\n",
              " ('Dinning', '/content/drive/MyDrive/House_Room_Dataset/din_667.jpg'),\n",
              " ('Dinning', '/content/drive/MyDrive/House_Room_Dataset/din_647.jpg'),\n",
              " ('Dinning', '/content/drive/MyDrive/House_Room_Dataset/din_657.jpg'),\n",
              " ('Dinning', '/content/drive/MyDrive/House_Room_Dataset/din_63.jpg'),\n",
              " ('Dinning', '/content/drive/MyDrive/House_Room_Dataset/din_64.jpg'),\n",
              " ('Dinning', '/content/drive/MyDrive/House_Room_Dataset/din_648.jpg'),\n",
              " ('Dinning', '/content/drive/MyDrive/House_Room_Dataset/din_656.jpg'),\n",
              " ('Dinning', '/content/drive/MyDrive/House_Room_Dataset/din_650.jpg'),\n",
              " ('Dinning', '/content/drive/MyDrive/House_Room_Dataset/din_671.jpg'),\n",
              " ('Dinning', '/content/drive/MyDrive/House_Room_Dataset/din_670.jpg'),\n",
              " ('Dinning', '/content/drive/MyDrive/House_Room_Dataset/din_633.jpg'),\n",
              " ('Dinning', '/content/drive/MyDrive/House_Room_Dataset/din_665.jpg'),\n",
              " ('Dinning', '/content/drive/MyDrive/House_Room_Dataset/din_658.jpg'),\n",
              " ('Dinning', '/content/drive/MyDrive/House_Room_Dataset/din_636.jpg'),\n",
              " ('Dinning', '/content/drive/MyDrive/House_Room_Dataset/din_65.jpg'),\n",
              " ('Dinning', '/content/drive/MyDrive/House_Room_Dataset/din_646.jpg'),\n",
              " ('Dinning', '/content/drive/MyDrive/House_Room_Dataset/din_645.jpg'),\n",
              " ('Dinning', '/content/drive/MyDrive/House_Room_Dataset/din_631.jpg'),\n",
              " ('Dinning', '/content/drive/MyDrive/House_Room_Dataset/din_640.jpg'),\n",
              " ('Dinning', '/content/drive/MyDrive/House_Room_Dataset/din_662.jpg'),\n",
              " ('Dinning', '/content/drive/MyDrive/House_Room_Dataset/din_644.jpg'),\n",
              " ('Dinning', '/content/drive/MyDrive/House_Room_Dataset/din_641.jpg'),\n",
              " ('Dinning', '/content/drive/MyDrive/House_Room_Dataset/din_664.jpg'),\n",
              " ('Dinning', '/content/drive/MyDrive/House_Room_Dataset/din_623.jpg'),\n",
              " ('Dinning', '/content/drive/MyDrive/House_Room_Dataset/din_635.jpg'),\n",
              " ('Dinning', '/content/drive/MyDrive/House_Room_Dataset/din_659.jpg'),\n",
              " ('Dinning', '/content/drive/MyDrive/House_Room_Dataset/din_67.jpg'),\n",
              " ('Dinning', '/content/drive/MyDrive/House_Room_Dataset/din_654.jpg'),\n",
              " ('Dinning', '/content/drive/MyDrive/House_Room_Dataset/din_655.jpg'),\n",
              " ('Dinning', '/content/drive/MyDrive/House_Room_Dataset/din_621.jpg'),\n",
              " ('Dinning', '/content/drive/MyDrive/House_Room_Dataset/din_630.jpg'),\n",
              " ('Dinning', '/content/drive/MyDrive/House_Room_Dataset/din_677.jpg'),\n",
              " ('Dinning', '/content/drive/MyDrive/House_Room_Dataset/din_663.jpg'),\n",
              " ('Dinning', '/content/drive/MyDrive/House_Room_Dataset/din_674.jpg'),\n",
              " ('Dinning', '/content/drive/MyDrive/House_Room_Dataset/din_678.jpg'),\n",
              " ('Dinning', '/content/drive/MyDrive/House_Room_Dataset/din_675.jpg'),\n",
              " ('Dinning', '/content/drive/MyDrive/House_Room_Dataset/din_661.jpg'),\n",
              " ('Dinning', '/content/drive/MyDrive/House_Room_Dataset/din_676.jpg'),\n",
              " ('Dinning', '/content/drive/MyDrive/House_Room_Dataset/din_637.jpg'),\n",
              " ('Dinning', '/content/drive/MyDrive/House_Room_Dataset/din_669.jpg'),\n",
              " ('Dinning', '/content/drive/MyDrive/House_Room_Dataset/din_651.jpg'),\n",
              " ('Dinning', '/content/drive/MyDrive/House_Room_Dataset/din_673.jpg'),\n",
              " ('Dinning', '/content/drive/MyDrive/House_Room_Dataset/din_625.jpg'),\n",
              " ('Dinning', '/content/drive/MyDrive/House_Room_Dataset/din_639.jpg'),\n",
              " ('Dinning', '/content/drive/MyDrive/House_Room_Dataset/din_627.jpg'),\n",
              " ('Dinning', '/content/drive/MyDrive/House_Room_Dataset/din_672.jpg'),\n",
              " ('Dinning', '/content/drive/MyDrive/House_Room_Dataset/din_652.jpg'),\n",
              " ('Dinning', '/content/drive/MyDrive/House_Room_Dataset/din_653.jpg'),\n",
              " ('Dinning', '/content/drive/MyDrive/House_Room_Dataset/din_700.jpg'),\n",
              " ('Dinning', '/content/drive/MyDrive/House_Room_Dataset/din_717.jpg'),\n",
              " ('Dinning', '/content/drive/MyDrive/House_Room_Dataset/din_722.jpg'),\n",
              " ('Dinning', '/content/drive/MyDrive/House_Room_Dataset/din_687.jpg'),\n",
              " ('Dinning', '/content/drive/MyDrive/House_Room_Dataset/din_707.jpg'),\n",
              " ('Dinning', '/content/drive/MyDrive/House_Room_Dataset/din_7.jpg'),\n",
              " ('Dinning', '/content/drive/MyDrive/House_Room_Dataset/din_719.jpg'),\n",
              " ('Dinning', '/content/drive/MyDrive/House_Room_Dataset/din_679.jpg'),\n",
              " ('Dinning', '/content/drive/MyDrive/House_Room_Dataset/din_706.jpg'),\n",
              " ('Dinning', '/content/drive/MyDrive/House_Room_Dataset/din_694.jpg'),\n",
              " ('Dinning', '/content/drive/MyDrive/House_Room_Dataset/din_681.jpg'),\n",
              " ('Dinning', '/content/drive/MyDrive/House_Room_Dataset/din_726.jpg'),\n",
              " ('Dinning', '/content/drive/MyDrive/House_Room_Dataset/din_729.jpg'),\n",
              " ('Dinning', '/content/drive/MyDrive/House_Room_Dataset/din_705.jpg'),\n",
              " ('Dinning', '/content/drive/MyDrive/House_Room_Dataset/din_703.jpg'),\n",
              " ('Dinning', '/content/drive/MyDrive/House_Room_Dataset/din_688.jpg'),\n",
              " ('Dinning', '/content/drive/MyDrive/House_Room_Dataset/din_695.jpg'),\n",
              " ('Dinning', '/content/drive/MyDrive/House_Room_Dataset/din_708.jpg'),\n",
              " ('Dinning', '/content/drive/MyDrive/House_Room_Dataset/din_689.jpg'),\n",
              " ('Dinning', '/content/drive/MyDrive/House_Room_Dataset/din_713.jpg'),\n",
              " ('Dinning', '/content/drive/MyDrive/House_Room_Dataset/din_710.jpg'),\n",
              " ('Dinning', '/content/drive/MyDrive/House_Room_Dataset/din_712.jpg'),\n",
              " ('Dinning', '/content/drive/MyDrive/House_Room_Dataset/din_725.jpg'),\n",
              " ('Dinning', '/content/drive/MyDrive/House_Room_Dataset/din_716.jpg'),\n",
              " ('Dinning', '/content/drive/MyDrive/House_Room_Dataset/din_682.jpg'),\n",
              " ('Dinning', '/content/drive/MyDrive/House_Room_Dataset/din_684.jpg'),\n",
              " ('Dinning', '/content/drive/MyDrive/House_Room_Dataset/din_724.jpg'),\n",
              " ('Dinning', '/content/drive/MyDrive/House_Room_Dataset/din_692.jpg'),\n",
              " ('Dinning', '/content/drive/MyDrive/House_Room_Dataset/din_73.jpg'),\n",
              " ('Dinning', '/content/drive/MyDrive/House_Room_Dataset/din_711.jpg'),\n",
              " ('Dinning', '/content/drive/MyDrive/House_Room_Dataset/din_701.jpg'),\n",
              " ('Dinning', '/content/drive/MyDrive/House_Room_Dataset/din_72.jpg'),\n",
              " ('Dinning', '/content/drive/MyDrive/House_Room_Dataset/din_696.jpg'),\n",
              " ('Dinning', '/content/drive/MyDrive/House_Room_Dataset/din_68.jpg'),\n",
              " ('Dinning', '/content/drive/MyDrive/House_Room_Dataset/din_727.jpg'),\n",
              " ('Dinning', '/content/drive/MyDrive/House_Room_Dataset/din_69.jpg'),\n",
              " ('Dinning', '/content/drive/MyDrive/House_Room_Dataset/din_702.jpg'),\n",
              " ('Dinning', '/content/drive/MyDrive/House_Room_Dataset/din_723.jpg'),\n",
              " ('Dinning', '/content/drive/MyDrive/House_Room_Dataset/din_699.jpg'),\n",
              " ('Dinning', '/content/drive/MyDrive/House_Room_Dataset/din_733.jpg'),\n",
              " ('Dinning', '/content/drive/MyDrive/House_Room_Dataset/din_709.jpg'),\n",
              " ('Dinning', '/content/drive/MyDrive/House_Room_Dataset/din_720.jpg'),\n",
              " ('Dinning', '/content/drive/MyDrive/House_Room_Dataset/din_697.jpg'),\n",
              " ('Dinning', '/content/drive/MyDrive/House_Room_Dataset/din_718.jpg'),\n",
              " ('Dinning', '/content/drive/MyDrive/House_Room_Dataset/din_714.jpg'),\n",
              " ('Dinning', '/content/drive/MyDrive/House_Room_Dataset/din_683.jpg'),\n",
              " ('Dinning', '/content/drive/MyDrive/House_Room_Dataset/din_715.jpg'),\n",
              " ('Dinning', '/content/drive/MyDrive/House_Room_Dataset/din_732.jpg'),\n",
              " ('Dinning', '/content/drive/MyDrive/House_Room_Dataset/din_762.jpg'),\n",
              " ('Dinning', '/content/drive/MyDrive/House_Room_Dataset/din_744.jpg'),\n",
              " ('Dinning', '/content/drive/MyDrive/House_Room_Dataset/din_745.jpg'),\n",
              " ('Dinning', '/content/drive/MyDrive/House_Room_Dataset/din_787.jpg'),\n",
              " ('Dinning', '/content/drive/MyDrive/House_Room_Dataset/din_774.jpg'),\n",
              " ('Dinning', '/content/drive/MyDrive/House_Room_Dataset/din_736.jpg'),\n",
              " ('Dinning', '/content/drive/MyDrive/House_Room_Dataset/din_755.jpg'),\n",
              " ('Dinning', '/content/drive/MyDrive/House_Room_Dataset/din_792.jpg'),\n",
              " ('Dinning', '/content/drive/MyDrive/House_Room_Dataset/din_79.jpg'),\n",
              " ('Dinning', '/content/drive/MyDrive/House_Room_Dataset/din_747.jpg'),\n",
              " ('Dinning', '/content/drive/MyDrive/House_Room_Dataset/din_742.jpg'),\n",
              " ('Dinning', '/content/drive/MyDrive/House_Room_Dataset/din_788.jpg'),\n",
              " ('Dinning', '/content/drive/MyDrive/House_Room_Dataset/din_734.jpg'),\n",
              " ('Dinning', '/content/drive/MyDrive/House_Room_Dataset/din_738.jpg'),\n",
              " ('Dinning', '/content/drive/MyDrive/House_Room_Dataset/din_772.jpg'),\n",
              " ('Dinning', '/content/drive/MyDrive/House_Room_Dataset/din_74.jpg'),\n",
              " ('Dinning', '/content/drive/MyDrive/House_Room_Dataset/din_770.jpg'),\n",
              " ('Dinning', '/content/drive/MyDrive/House_Room_Dataset/din_782.jpg'),\n",
              " ('Dinning', '/content/drive/MyDrive/House_Room_Dataset/din_790.jpg'),\n",
              " ('Dinning', '/content/drive/MyDrive/House_Room_Dataset/din_78.jpg'),\n",
              " ('Dinning', '/content/drive/MyDrive/House_Room_Dataset/din_759.jpg'),\n",
              " ('Dinning', '/content/drive/MyDrive/House_Room_Dataset/din_775.jpg'),\n",
              " ('Dinning', '/content/drive/MyDrive/House_Room_Dataset/din_748.jpg'),\n",
              " ('Dinning', '/content/drive/MyDrive/House_Room_Dataset/din_761.jpg'),\n",
              " ('Dinning', '/content/drive/MyDrive/House_Room_Dataset/din_737.jpg'),\n",
              " ('Dinning', '/content/drive/MyDrive/House_Room_Dataset/din_750.jpg'),\n",
              " ('Dinning', '/content/drive/MyDrive/House_Room_Dataset/din_75.jpg'),\n",
              " ('Dinning', '/content/drive/MyDrive/House_Room_Dataset/din_784.jpg'),\n",
              " ('Dinning', '/content/drive/MyDrive/House_Room_Dataset/din_779.jpg'),\n",
              " ('Dinning', '/content/drive/MyDrive/House_Room_Dataset/din_749.jpg'),\n",
              " ('Dinning', '/content/drive/MyDrive/House_Room_Dataset/din_735.jpg'),\n",
              " ('Dinning', '/content/drive/MyDrive/House_Room_Dataset/din_763.jpg'),\n",
              " ('Dinning', '/content/drive/MyDrive/House_Room_Dataset/din_773.jpg'),\n",
              " ('Dinning', '/content/drive/MyDrive/House_Room_Dataset/din_771.jpg'),\n",
              " ('Dinning', '/content/drive/MyDrive/House_Room_Dataset/din_754.jpg'),\n",
              " ('Dinning', '/content/drive/MyDrive/House_Room_Dataset/din_768.jpg'),\n",
              " ('Dinning', '/content/drive/MyDrive/House_Room_Dataset/din_740.jpg'),\n",
              " ('Dinning', '/content/drive/MyDrive/House_Room_Dataset/din_756.jpg'),\n",
              " ('Dinning', '/content/drive/MyDrive/House_Room_Dataset/din_791.jpg'),\n",
              " ('Dinning', '/content/drive/MyDrive/House_Room_Dataset/din_757.jpg'),\n",
              " ('Dinning', '/content/drive/MyDrive/House_Room_Dataset/din_743.jpg'),\n",
              " ('Dinning', '/content/drive/MyDrive/House_Room_Dataset/din_739.jpg'),\n",
              " ('Dinning', '/content/drive/MyDrive/House_Room_Dataset/din_751.jpg'),\n",
              " ('Dinning', '/content/drive/MyDrive/House_Room_Dataset/din_783.jpg'),\n",
              " ('Dinning', '/content/drive/MyDrive/House_Room_Dataset/din_746.jpg'),\n",
              " ('Dinning', '/content/drive/MyDrive/House_Room_Dataset/din_789.jpg'),\n",
              " ('Dinning', '/content/drive/MyDrive/House_Room_Dataset/din_767.jpg'),\n",
              " ('Dinning', '/content/drive/MyDrive/House_Room_Dataset/din_776.jpg'),\n",
              " ('Dinning', '/content/drive/MyDrive/House_Room_Dataset/din_824.jpg'),\n",
              " ('Dinning', '/content/drive/MyDrive/House_Room_Dataset/din_848.jpg'),\n",
              " ('Dinning', '/content/drive/MyDrive/House_Room_Dataset/din_806.jpg'),\n",
              " ('Dinning', '/content/drive/MyDrive/House_Room_Dataset/din_832.jpg'),\n",
              " ('Dinning', '/content/drive/MyDrive/House_Room_Dataset/din_836.jpg'),\n",
              " ('Dinning', '/content/drive/MyDrive/House_Room_Dataset/din_800.jpg'),\n",
              " ('Dinning', '/content/drive/MyDrive/House_Room_Dataset/din_857.jpg'),\n",
              " ('Dinning', '/content/drive/MyDrive/House_Room_Dataset/din_85.jpg'),\n",
              " ('Dinning', '/content/drive/MyDrive/House_Room_Dataset/din_841.jpg'),\n",
              " ('Dinning', '/content/drive/MyDrive/House_Room_Dataset/din_858.jpg'),\n",
              " ('Dinning', '/content/drive/MyDrive/House_Room_Dataset/din_849.jpg'),\n",
              " ('Dinning', '/content/drive/MyDrive/House_Room_Dataset/din_818.jpg'),\n",
              " ('Dinning', '/content/drive/MyDrive/House_Room_Dataset/din_808.jpg'),\n",
              " ('Dinning', '/content/drive/MyDrive/House_Room_Dataset/din_796.jpg'),\n",
              " ('Dinning', '/content/drive/MyDrive/House_Room_Dataset/din_817.jpg'),\n",
              " ('Dinning', '/content/drive/MyDrive/House_Room_Dataset/din_834.jpg'),\n",
              " ('Dinning', '/content/drive/MyDrive/House_Room_Dataset/din_83.jpg'),\n",
              " ('Dinning', '/content/drive/MyDrive/House_Room_Dataset/din_840.jpg'),\n",
              " ('Dinning', '/content/drive/MyDrive/House_Room_Dataset/din_835.jpg'),\n",
              " ('Dinning', '/content/drive/MyDrive/House_Room_Dataset/din_802.jpg'),\n",
              " ('Dinning', '/content/drive/MyDrive/House_Room_Dataset/din_81.jpg'),\n",
              " ('Dinning', '/content/drive/MyDrive/House_Room_Dataset/din_846.jpg'),\n",
              " ('Dinning', '/content/drive/MyDrive/House_Room_Dataset/din_804.jpg'),\n",
              " ('Dinning', '/content/drive/MyDrive/House_Room_Dataset/din_809.jpg'),\n",
              " ('Dinning', '/content/drive/MyDrive/House_Room_Dataset/din_837.jpg'),\n",
              " ('Dinning', '/content/drive/MyDrive/House_Room_Dataset/din_814.jpg'),\n",
              " ('Dinning', '/content/drive/MyDrive/House_Room_Dataset/din_80.jpg'),\n",
              " ('Dinning', '/content/drive/MyDrive/House_Room_Dataset/din_8.jpg'),\n",
              " ('Dinning', '/content/drive/MyDrive/House_Room_Dataset/din_801.jpg'),\n",
              " ('Dinning', '/content/drive/MyDrive/House_Room_Dataset/din_811.jpg'),\n",
              " ('Dinning', '/content/drive/MyDrive/House_Room_Dataset/din_833.jpg'),\n",
              " ('Dinning', '/content/drive/MyDrive/House_Room_Dataset/din_844.jpg'),\n",
              " ('Dinning', '/content/drive/MyDrive/House_Room_Dataset/din_805.jpg'),\n",
              " ('Dinning', '/content/drive/MyDrive/House_Room_Dataset/din_839.jpg'),\n",
              " ('Dinning', '/content/drive/MyDrive/House_Room_Dataset/din_797.jpg'),\n",
              " ('Dinning', '/content/drive/MyDrive/House_Room_Dataset/din_812.jpg'),\n",
              " ('Dinning', '/content/drive/MyDrive/House_Room_Dataset/din_851.jpg'),\n",
              " ('Dinning', '/content/drive/MyDrive/House_Room_Dataset/din_84.jpg'),\n",
              " ('Dinning', '/content/drive/MyDrive/House_Room_Dataset/din_854.jpg'),\n",
              " ('Dinning', '/content/drive/MyDrive/House_Room_Dataset/din_825.jpg'),\n",
              " ('Dinning', '/content/drive/MyDrive/House_Room_Dataset/din_850.jpg'),\n",
              " ('Dinning', '/content/drive/MyDrive/House_Room_Dataset/din_822.jpg'),\n",
              " ('Dinning', '/content/drive/MyDrive/House_Room_Dataset/din_821.jpg'),\n",
              " ('Dinning', '/content/drive/MyDrive/House_Room_Dataset/din_810.jpg'),\n",
              " ('Dinning', '/content/drive/MyDrive/House_Room_Dataset/din_82.jpg'),\n",
              " ('Dinning', '/content/drive/MyDrive/House_Room_Dataset/din_856.jpg'),\n",
              " ('Dinning', '/content/drive/MyDrive/House_Room_Dataset/din_795.jpg'),\n",
              " ('Dinning', '/content/drive/MyDrive/House_Room_Dataset/din_847.jpg'),\n",
              " ('Dinning', '/content/drive/MyDrive/House_Room_Dataset/din_866.jpg'),\n",
              " ('Dinning', '/content/drive/MyDrive/House_Room_Dataset/din_89.jpg'),\n",
              " ('Dinning', '/content/drive/MyDrive/House_Room_Dataset/din_871.jpg'),\n",
              " ('Dinning', '/content/drive/MyDrive/House_Room_Dataset/din_899.jpg'),\n",
              " ('Dinning', '/content/drive/MyDrive/House_Room_Dataset/din_872.jpg'),\n",
              " ('Dinning', '/content/drive/MyDrive/House_Room_Dataset/din_90.jpg'),\n",
              " ('Dinning', '/content/drive/MyDrive/House_Room_Dataset/din_865.jpg'),\n",
              " ('Dinning', '/content/drive/MyDrive/House_Room_Dataset/din_883.jpg'),\n",
              " ('Dinning', '/content/drive/MyDrive/House_Room_Dataset/din_905.jpg'),\n",
              " ('Dinning', '/content/drive/MyDrive/House_Room_Dataset/din_893.jpg'),\n",
              " ('Dinning', '/content/drive/MyDrive/House_Room_Dataset/din_874.jpg'),\n",
              " ('Dinning', '/content/drive/MyDrive/House_Room_Dataset/din_886.jpg'),\n",
              " ('Dinning', '/content/drive/MyDrive/House_Room_Dataset/din_915.jpg'),\n",
              " ('Dinning', '/content/drive/MyDrive/House_Room_Dataset/din_875.jpg'),\n",
              " ('Dinning', '/content/drive/MyDrive/House_Room_Dataset/din_876.jpg'),\n",
              " ('Dinning', '/content/drive/MyDrive/House_Room_Dataset/din_914.jpg'),\n",
              " ('Dinning', '/content/drive/MyDrive/House_Room_Dataset/din_887.jpg'),\n",
              " ('Dinning', '/content/drive/MyDrive/House_Room_Dataset/din_9.jpg'),\n",
              " ('Dinning', '/content/drive/MyDrive/House_Room_Dataset/din_861.jpg'),\n",
              " ('Dinning', '/content/drive/MyDrive/House_Room_Dataset/din_892.jpg'),\n",
              " ('Dinning', '/content/drive/MyDrive/House_Room_Dataset/din_889.jpg'),\n",
              " ('Dinning', '/content/drive/MyDrive/House_Room_Dataset/din_916.jpg'),\n",
              " ('Dinning', '/content/drive/MyDrive/House_Room_Dataset/din_911.jpg'),\n",
              " ('Dinning', '/content/drive/MyDrive/House_Room_Dataset/din_860.jpg'),\n",
              " ('Dinning', '/content/drive/MyDrive/House_Room_Dataset/din_885.jpg'),\n",
              " ('Dinning', '/content/drive/MyDrive/House_Room_Dataset/din_904.jpg'),\n",
              " ('Dinning', '/content/drive/MyDrive/House_Room_Dataset/din_912.jpg'),\n",
              " ('Dinning', '/content/drive/MyDrive/House_Room_Dataset/din_902.jpg'),\n",
              " ('Dinning', '/content/drive/MyDrive/House_Room_Dataset/din_880.jpg'),\n",
              " ('Dinning', '/content/drive/MyDrive/House_Room_Dataset/din_884.jpg'),\n",
              " ('Dinning', '/content/drive/MyDrive/House_Room_Dataset/din_907.jpg'),\n",
              " ('Dinning', '/content/drive/MyDrive/House_Room_Dataset/din_898.jpg'),\n",
              " ('Dinning', '/content/drive/MyDrive/House_Room_Dataset/din_863.jpg'),\n",
              " ('Dinning', '/content/drive/MyDrive/House_Room_Dataset/din_894.jpg'),\n",
              " ('Dinning', '/content/drive/MyDrive/House_Room_Dataset/din_906.jpg'),\n",
              " ('Dinning', '/content/drive/MyDrive/House_Room_Dataset/din_879.jpg'),\n",
              " ('Dinning', '/content/drive/MyDrive/House_Room_Dataset/din_870.jpg'),\n",
              " ('Dinning', '/content/drive/MyDrive/House_Room_Dataset/din_910.jpg'),\n",
              " ('Dinning', '/content/drive/MyDrive/House_Room_Dataset/din_903.jpg'),\n",
              " ('Dinning', '/content/drive/MyDrive/House_Room_Dataset/din_913.jpg'),\n",
              " ('Dinning', '/content/drive/MyDrive/House_Room_Dataset/din_890.jpg'),\n",
              " ('Dinning', '/content/drive/MyDrive/House_Room_Dataset/din_86.jpg'),\n",
              " ('Dinning', '/content/drive/MyDrive/House_Room_Dataset/din_867.jpg'),\n",
              " ('Dinning', '/content/drive/MyDrive/House_Room_Dataset/din_895.jpg'),\n",
              " ('Dinning', '/content/drive/MyDrive/House_Room_Dataset/din_878.jpg'),\n",
              " ('Dinning', '/content/drive/MyDrive/House_Room_Dataset/din_891.jpg'),\n",
              " ('Dinning', '/content/drive/MyDrive/House_Room_Dataset/din_900.jpg'),\n",
              " ('Dinning', '/content/drive/MyDrive/House_Room_Dataset/din_864.jpg'),\n",
              " ('Dinning', '/content/drive/MyDrive/House_Room_Dataset/din_968.jpg'),\n",
              " ('Dinning', '/content/drive/MyDrive/House_Room_Dataset/din_935.jpg'),\n",
              " ('Dinning', '/content/drive/MyDrive/House_Room_Dataset/din_927.jpg'),\n",
              " ('Dinning', '/content/drive/MyDrive/House_Room_Dataset/din_918.jpg'),\n",
              " ('Dinning', '/content/drive/MyDrive/House_Room_Dataset/din_97.jpg'),\n",
              " ('Dinning', '/content/drive/MyDrive/House_Room_Dataset/din_966.jpg'),\n",
              " ('Dinning', '/content/drive/MyDrive/House_Room_Dataset/din_920.jpg'),\n",
              " ('Dinning', '/content/drive/MyDrive/House_Room_Dataset/din_95.jpg'),\n",
              " ('Dinning', '/content/drive/MyDrive/House_Room_Dataset/din_941.jpg'),\n",
              " ('Dinning', '/content/drive/MyDrive/House_Room_Dataset/din_933.jpg'),\n",
              " ('Dinning', '/content/drive/MyDrive/House_Room_Dataset/din_926.jpg'),\n",
              " ('Dinning', '/content/drive/MyDrive/House_Room_Dataset/din_965.jpg'),\n",
              " ('Dinning', '/content/drive/MyDrive/House_Room_Dataset/din_948.jpg'),\n",
              " ('Dinning', '/content/drive/MyDrive/House_Room_Dataset/din_923.jpg'),\n",
              " ('Dinning', '/content/drive/MyDrive/House_Room_Dataset/din_946.jpg'),\n",
              " ('Dinning', '/content/drive/MyDrive/House_Room_Dataset/din_944.jpg'),\n",
              " ('Dinning', '/content/drive/MyDrive/House_Room_Dataset/din_932.jpg'),\n",
              " ('Dinning', '/content/drive/MyDrive/House_Room_Dataset/din_929.jpg'),\n",
              " ('Dinning', '/content/drive/MyDrive/House_Room_Dataset/din_921.jpg'),\n",
              " ('Dinning', '/content/drive/MyDrive/House_Room_Dataset/din_958.jpg'),\n",
              " ('Dinning', '/content/drive/MyDrive/House_Room_Dataset/din_96.jpg'),\n",
              " ('Dinning', '/content/drive/MyDrive/House_Room_Dataset/din_967.jpg'),\n",
              " ('Dinning', '/content/drive/MyDrive/House_Room_Dataset/din_955.jpg'),\n",
              " ('Dinning', '/content/drive/MyDrive/House_Room_Dataset/din_945.jpg'),\n",
              " ('Dinning', '/content/drive/MyDrive/House_Room_Dataset/din_954.jpg'),\n",
              " ('Dinning', '/content/drive/MyDrive/House_Room_Dataset/din_942.jpg'),\n",
              " ('Dinning', '/content/drive/MyDrive/House_Room_Dataset/din_936.jpg'),\n",
              " ('Dinning', '/content/drive/MyDrive/House_Room_Dataset/din_953.jpg'),\n",
              " ('Dinning', '/content/drive/MyDrive/House_Room_Dataset/din_969.jpg'),\n",
              " ('Dinning', '/content/drive/MyDrive/House_Room_Dataset/din_922.jpg'),\n",
              " ('Dinning', '/content/drive/MyDrive/House_Room_Dataset/din_964.jpg'),\n",
              " ('Dinning', '/content/drive/MyDrive/House_Room_Dataset/din_947.jpg'),\n",
              " ('Dinning', '/content/drive/MyDrive/House_Room_Dataset/din_92.jpg'),\n",
              " ('Dinning', '/content/drive/MyDrive/House_Room_Dataset/din_940.jpg'),\n",
              " ('Dinning', '/content/drive/MyDrive/House_Room_Dataset/din_930.jpg'),\n",
              " ('Dinning', '/content/drive/MyDrive/House_Room_Dataset/din_939.jpg'),\n",
              " ('Dinning', '/content/drive/MyDrive/House_Room_Dataset/din_961.jpg'),\n",
              " ('Dinning', '/content/drive/MyDrive/House_Room_Dataset/din_959.jpg'),\n",
              " ('Dinning', '/content/drive/MyDrive/House_Room_Dataset/din_919.jpg'),\n",
              " ('Dinning', '/content/drive/MyDrive/House_Room_Dataset/din_937.jpg'),\n",
              " ('Dinning', '/content/drive/MyDrive/House_Room_Dataset/din_934.jpg'),\n",
              " ('Dinning', '/content/drive/MyDrive/House_Room_Dataset/din_949.jpg'),\n",
              " ('Dinning', '/content/drive/MyDrive/House_Room_Dataset/din_924.jpg'),\n",
              " ('Dinning', '/content/drive/MyDrive/House_Room_Dataset/din_956.jpg'),\n",
              " ('Dinning', '/content/drive/MyDrive/House_Room_Dataset/din_963.jpg'),\n",
              " ('Dinning', '/content/drive/MyDrive/House_Room_Dataset/din_928.jpg'),\n",
              " ('Dinning', '/content/drive/MyDrive/House_Room_Dataset/din_977.jpg'),\n",
              " ('Dinning', '/content/drive/MyDrive/House_Room_Dataset/din_989.jpg'),\n",
              " ('Dinning', '/content/drive/MyDrive/House_Room_Dataset/din_99.jpg'),\n",
              " ('Dinning', '/content/drive/MyDrive/House_Room_Dataset/din_993.jpg'),\n",
              " ('Dinning', '/content/drive/MyDrive/House_Room_Dataset/din_973.jpg'),\n",
              " ('Dinning', '/content/drive/MyDrive/House_Room_Dataset/din_996.jpg'),\n",
              " ('Dinning', '/content/drive/MyDrive/House_Room_Dataset/din_984.jpg'),\n",
              " ('Dinning', '/content/drive/MyDrive/House_Room_Dataset/din_976.jpg'),\n",
              " ('Dinning', '/content/drive/MyDrive/House_Room_Dataset/din_980.jpg'),\n",
              " ('Dinning', '/content/drive/MyDrive/House_Room_Dataset/din_997.jpg'),\n",
              " ('Dinning', '/content/drive/MyDrive/House_Room_Dataset/din_985.jpg'),\n",
              " ('Dinning', '/content/drive/MyDrive/House_Room_Dataset/din_982.jpg'),\n",
              " ('Dinning', '/content/drive/MyDrive/House_Room_Dataset/din_983.jpg'),\n",
              " ('Dinning', '/content/drive/MyDrive/House_Room_Dataset/din_999.jpg'),\n",
              " ('Dinning', '/content/drive/MyDrive/House_Room_Dataset/din_970.jpg'),\n",
              " ('Dinning', '/content/drive/MyDrive/House_Room_Dataset/din_981.jpg'),\n",
              " ('Dinning', '/content/drive/MyDrive/House_Room_Dataset/din_971.jpg'),\n",
              " ('Dinning', '/content/drive/MyDrive/House_Room_Dataset/din_986.jpg'),\n",
              " ('Dinning', '/content/drive/MyDrive/House_Room_Dataset/din_995.jpg'),\n",
              " ('Dinning', '/content/drive/MyDrive/House_Room_Dataset/din_994.jpg'),\n",
              " ('Dinning', '/content/drive/MyDrive/House_Room_Dataset/din_974.jpg'),\n",
              " ('Dinning', '/content/drive/MyDrive/House_Room_Dataset/din_991.jpg'),\n",
              " ('Dinning', '/content/drive/MyDrive/House_Room_Dataset/din_990.jpg'),\n",
              " ('Dinning', '/content/drive/MyDrive/House_Room_Dataset/din_992.jpg'),\n",
              " ...]"
            ]
          },
          "metadata": {},
          "execution_count": 53
        }
      ]
    },
    {
      "cell_type": "code",
      "source": [
        "# Build a dataframe\n",
        "\n",
        "rooms_df = pd.DataFrame(data = rooms, columns = ['room_type', 'item'])\n",
        "print(rooms_df.head(5))\n",
        "print(rooms_df.tail(5))\n"
      ],
      "metadata": {
        "colab": {
          "base_uri": "https://localhost:8080/"
        },
        "id": "RPEcdOD-YK0y",
        "outputId": "1ebeb65a-4478-42f2-8864-c3a20f354984"
      },
      "execution_count": null,
      "outputs": [
        {
          "output_type": "stream",
          "name": "stdout",
          "text": [
            "  room_type                                               item\n",
            "0   Dinning  /content/drive/MyDrive/House_Room_Dataset/din_...\n",
            "1   Dinning  /content/drive/MyDrive/House_Room_Dataset/din_...\n",
            "2   Dinning  /content/drive/MyDrive/House_Room_Dataset/din_...\n",
            "3   Dinning  /content/drive/MyDrive/House_Room_Dataset/din_...\n",
            "4   Dinning  /content/drive/MyDrive/House_Room_Dataset/din_...\n",
            "     room_type                                               item\n",
            "3694   Bedroom  /content/drive/MyDrive/House_Room_Dataset/bed_...\n",
            "3695   Bedroom  /content/drive/MyDrive/House_Room_Dataset/bed_...\n",
            "3696   Bedroom  /content/drive/MyDrive/House_Room_Dataset/bed_...\n",
            "3697   Bedroom  /content/drive/MyDrive/House_Room_Dataset/bed_...\n",
            "3698   Bedroom  /content/drive/MyDrive/House_Room_Dataset/bed_...\n"
          ]
        }
      ]
    },
    {
      "cell_type": "code",
      "source": [
        "# Lets check the total number of samples present\n",
        "print(\"Total number of rroms present in the dataset is\", len(rooms_df))"
      ],
      "metadata": {
        "colab": {
          "base_uri": "https://localhost:8080/"
        },
        "id": "8pilQcNYcpT4",
        "outputId": "2fda7f8b-011e-4526-be1e-b140452f9caa"
      },
      "execution_count": null,
      "outputs": [
        {
          "output_type": "stream",
          "name": "stdout",
          "text": [
            "Total number of rroms present in the dataset is 3699\n"
          ]
        }
      ]
    },
    {
      "cell_type": "code",
      "source": [
        "room_count = rooms_df['room_type'].value_counts()\n",
        "\n",
        "print(\"Frequency of rooms: \")\n",
        "print(room_count)"
      ],
      "metadata": {
        "colab": {
          "base_uri": "https://localhost:8080/"
        },
        "id": "bdlDSUj3d9Xa",
        "outputId": "2348f2ba-e790-4799-c8fa-c49048194976"
      },
      "execution_count": null,
      "outputs": [
        {
          "output_type": "stream",
          "name": "stdout",
          "text": [
            "Frequency of rooms: \n",
            "Livingroom    1283\n",
            "Bedroom       1258\n",
            "Dinning       1158\n",
            "Name: room_type, dtype: int64\n"
          ]
        }
      ]
    },
    {
      "cell_type": "code",
      "source": [
        "import cv2\n",
        "path = \"/content/drive/MyDrive/House_Room_Dataset/\"\n",
        "\n",
        "im_size = 60\n",
        "\n",
        "images = []\n",
        "labels = []\n",
        "\n",
        "for i in room_types:\n",
        "  datapath = path + str(i)\n",
        "  file_names = [i for i in os.listdir(datapath)]\n",
        "\n",
        "  for f in file_names:\n",
        "    img = cv2.imread(datapath + '/' + f)\n",
        "    img = cv2.resize(img, (im_size, im_size))\n",
        "    images.append(img)\n",
        "    labels.append(i)"
      ],
      "metadata": {
        "id": "r_fJG3i4e7f5"
      },
      "execution_count": null,
      "outputs": []
    },
    {
      "cell_type": "code",
      "source": [
        "images = np.array(images)\n",
        "images.shape"
      ],
      "metadata": {
        "colab": {
          "base_uri": "https://localhost:8080/"
        },
        "id": "p1oPhAZ_vOOR",
        "outputId": "f06abf00-8bde-4bdc-8672-b9193be77b8e"
      },
      "execution_count": null,
      "outputs": [
        {
          "output_type": "execute_result",
          "data": {
            "text/plain": [
              "(3699, 60, 60, 3)"
            ]
          },
          "metadata": {},
          "execution_count": 58
        }
      ]
    },
    {
      "cell_type": "code",
      "source": [
        "images = images.astype('float32') / 255.0"
      ],
      "metadata": {
        "id": "tazKg0wEzBfm"
      },
      "execution_count": null,
      "outputs": []
    },
    {
      "cell_type": "code",
      "source": [
        "images.shape"
      ],
      "metadata": {
        "colab": {
          "base_uri": "https://localhost:8080/"
        },
        "id": "iHp0J7Jv3IFN",
        "outputId": "4f74c61e-eaf3-44eb-c850-14c4051fa349"
      },
      "execution_count": null,
      "outputs": [
        {
          "output_type": "execute_result",
          "data": {
            "text/plain": [
              "(3699, 60, 60, 3)"
            ]
          },
          "metadata": {},
          "execution_count": 60
        }
      ]
    },
    {
      "cell_type": "code",
      "source": [
        "from sklearn.preprocessing import LabelEncoder, OneHotEncoder\n",
        "y = rooms_df['room_type'].values\n",
        "\n",
        "print(y[3690:])"
      ],
      "metadata": {
        "colab": {
          "base_uri": "https://localhost:8080/"
        },
        "id": "BdEB1Jeu3JkC",
        "outputId": "548b82e3-ff0f-4e2a-931a-dad39fa6d02e"
      },
      "execution_count": null,
      "outputs": [
        {
          "output_type": "stream",
          "name": "stdout",
          "text": [
            "['Bedroom' 'Bedroom' 'Bedroom' 'Bedroom' 'Bedroom' 'Bedroom' 'Bedroom'\n",
            " 'Bedroom' 'Bedroom']\n"
          ]
        }
      ]
    },
    {
      "cell_type": "code",
      "source": [
        "y_labelencoder = LabelEncoder()\n",
        "y = y_labelencoder.fit_transform(y)\n",
        "print(y)"
      ],
      "metadata": {
        "colab": {
          "base_uri": "https://localhost:8080/"
        },
        "id": "jNk1EBN96PUQ",
        "outputId": "5884daf5-0219-4568-e018-db814211ed74"
      },
      "execution_count": null,
      "outputs": [
        {
          "output_type": "stream",
          "name": "stdout",
          "text": [
            "[1 1 1 ... 0 0 0]\n"
          ]
        }
      ]
    },
    {
      "cell_type": "code",
      "source": [
        "y = y.reshape(-1,1)\n",
        "onehotencoder = OneHotEncoder()\n",
        "Y = onehotencoder.fit_transform(y)\n",
        "Y.shape"
      ],
      "metadata": {
        "colab": {
          "base_uri": "https://localhost:8080/"
        },
        "id": "9Pp18c3h7X8K",
        "outputId": "aa7451ea-c679-4cf7-9607-54431bfa0bc5"
      },
      "execution_count": null,
      "outputs": [
        {
          "output_type": "execute_result",
          "data": {
            "text/plain": [
              "(3699, 3)"
            ]
          },
          "metadata": {},
          "execution_count": 63
        }
      ]
    },
    {
      "cell_type": "code",
      "source": [
        "Y"
      ],
      "metadata": {
        "colab": {
          "base_uri": "https://localhost:8080/"
        },
        "id": "ICO0Lhlz_hcl",
        "outputId": "de789166-3148-4422-833f-0501564b1b0e"
      },
      "execution_count": null,
      "outputs": [
        {
          "output_type": "execute_result",
          "data": {
            "text/plain": [
              "<3699x3 sparse matrix of type '<class 'numpy.float64'>'\n",
              "\twith 3699 stored elements in Compressed Sparse Row format>"
            ]
          },
          "metadata": {},
          "execution_count": 15
        }
      ]
    },
    {
      "cell_type": "code",
      "source": [
        "print(Y)"
      ],
      "metadata": {
        "colab": {
          "base_uri": "https://localhost:8080/"
        },
        "id": "3y_h8AbNAdL8",
        "outputId": "e6629a17-3622-45d7-8bee-893db6e31344"
      },
      "execution_count": null,
      "outputs": [
        {
          "output_type": "stream",
          "name": "stdout",
          "text": [
            "  (0, 1)\t1.0\n",
            "  (1, 1)\t1.0\n",
            "  (2, 1)\t1.0\n",
            "  (3, 1)\t1.0\n",
            "  (4, 1)\t1.0\n",
            "  (5, 1)\t1.0\n",
            "  (6, 1)\t1.0\n",
            "  (7, 1)\t1.0\n",
            "  (8, 1)\t1.0\n",
            "  (9, 1)\t1.0\n",
            "  (10, 1)\t1.0\n",
            "  (11, 1)\t1.0\n",
            "  (12, 1)\t1.0\n",
            "  (13, 1)\t1.0\n",
            "  (14, 1)\t1.0\n",
            "  (15, 1)\t1.0\n",
            "  (16, 1)\t1.0\n",
            "  (17, 1)\t1.0\n",
            "  (18, 1)\t1.0\n",
            "  (19, 1)\t1.0\n",
            "  (20, 1)\t1.0\n",
            "  (21, 1)\t1.0\n",
            "  (22, 1)\t1.0\n",
            "  (23, 1)\t1.0\n",
            "  (24, 1)\t1.0\n",
            "  :\t:\n",
            "  (3674, 0)\t1.0\n",
            "  (3675, 0)\t1.0\n",
            "  (3676, 0)\t1.0\n",
            "  (3677, 0)\t1.0\n",
            "  (3678, 0)\t1.0\n",
            "  (3679, 0)\t1.0\n",
            "  (3680, 0)\t1.0\n",
            "  (3681, 0)\t1.0\n",
            "  (3682, 0)\t1.0\n",
            "  (3683, 0)\t1.0\n",
            "  (3684, 0)\t1.0\n",
            "  (3685, 0)\t1.0\n",
            "  (3686, 0)\t1.0\n",
            "  (3687, 0)\t1.0\n",
            "  (3688, 0)\t1.0\n",
            "  (3689, 0)\t1.0\n",
            "  (3690, 0)\t1.0\n",
            "  (3691, 0)\t1.0\n",
            "  (3692, 0)\t1.0\n",
            "  (3693, 0)\t1.0\n",
            "  (3694, 0)\t1.0\n",
            "  (3695, 0)\t1.0\n",
            "  (3696, 0)\t1.0\n",
            "  (3697, 0)\t1.0\n",
            "  (3698, 0)\t1.0\n"
          ]
        }
      ]
    },
    {
      "cell_type": "code",
      "source": [
        "from sklearn.utils import shuffle\n",
        "from sklearn.model_selection import train_test_split\n",
        "\n",
        "images, Y = shuffle(images, Y, random_state = 1)\n",
        "\n",
        "train_x, test_x, train_y, test_y = train_test_split(images, Y, test_size = 0.05, random_state = 415)\n",
        "\n",
        "print(train_x.shape)\n",
        "print(test_x.shape)\n",
        "print(train_y.shape)\n",
        "print(test_y.shape)"
      ],
      "metadata": {
        "colab": {
          "base_uri": "https://localhost:8080/"
        },
        "id": "7VV5wNVLAgj1",
        "outputId": "7a976b86-46c0-4591-a7a9-3563c635ad0f"
      },
      "execution_count": null,
      "outputs": [
        {
          "output_type": "stream",
          "name": "stdout",
          "text": [
            "(3514, 60, 60, 3)\n",
            "(185, 60, 60, 3)\n",
            "(3514, 3)\n",
            "(185, 3)\n"
          ]
        }
      ]
    },
    {
      "cell_type": "code",
      "source": [
        "import tensorflow as tf\n",
        "num_classes = 3"
      ],
      "metadata": {
        "id": "4uDuGSqtCiD7"
      },
      "execution_count": null,
      "outputs": []
    },
    {
      "cell_type": "code",
      "source": [
        "# flattened image\n",
        "n_input = 10800\n",
        "# parameters\n",
        "learning_rate = 0.001\n",
        "training_iters = 10\n",
        "batch_size = 16\n",
        "display_step = 20"
      ],
      "metadata": {
        "id": "1mmAHqTMDCFk"
      },
      "execution_count": null,
      "outputs": []
    },
    {
      "cell_type": "code",
      "source": [
        "import tensorflow.compat.v1 as tf\n",
        "tf.disable_v2_behavior()"
      ],
      "metadata": {
        "id": "fq0y6Alnlhyj"
      },
      "execution_count": null,
      "outputs": []
    },
    {
      "cell_type": "code",
      "source": [
        "img_size = 60\n",
        "num_channels = 3\n",
        "\n",
        "x = tf.compat.v1.placeholder(tf.float32, [None, img_size, img_size, num_channels])\n",
        "y_ = tf.compat.v1.placeholder(tf.float32, [None, num_classes])\n",
        "print(\"Shape of placeholder: \", x.shape, y_.shape)"
      ],
      "metadata": {
        "colab": {
          "base_uri": "https://localhost:8080/"
        },
        "id": "cqYK-kMff-Pw",
        "outputId": "0857fae6-cd7e-4bc8-8dd8-4d792bc4836d"
      },
      "execution_count": null,
      "outputs": [
        {
          "output_type": "stream",
          "name": "stdout",
          "text": [
            "Shape of placeholder:  (?, 60, 60, 3) (?, 3)\n"
          ]
        }
      ]
    },
    {
      "cell_type": "code",
      "source": [
        "def conv2d(x, w, b, strides = 1):\n",
        "  x = tf.nn.conv2d(x, w, strides = [1, strides, strides, 1], padding = 'SAME')\n",
        "  x = tf.nn.bias_add(x, b)\n",
        "  return tf.nn.relu(x)\n",
        "\n",
        "def max_pool2d(x, k = 2):\n",
        "  return tf.nn.max_pool(x, ksize = [1, k, k, 1], strides = [1, k, k, 1], padding = 'SAME')"
      ],
      "metadata": {
        "id": "fotP3xj2g2pg"
      },
      "execution_count": null,
      "outputs": []
    },
    {
      "cell_type": "code",
      "source": [
        "weights = {\n",
        "    'w1': tf.Variable(tf.random_normal([5,5,3,32]), name = 'w1'),\n",
        "    'w2': tf.Variable(tf.random_normal([5,5,32,64]), name = 'w2'),\n",
        "    'w3': tf.Variable(tf.random_normal([5,5,64,128]), name = 'w3'),\n",
        "    'wd1': tf.Variable(tf.random_normal([8*8*128, 2048]), name = 'wd1'),\n",
        "    'wout': tf.Variable(tf.random_normal([2048, num_classes]), name = 'wout')\n",
        "}\n",
        "\n",
        "biases = {\n",
        "    'b1': tf.Variable(tf.random_normal([32]), name = 'b1'),\n",
        "    'b2': tf.Variable(tf.random_normal([64]), name = 'b2'),\n",
        "    'b3': tf.Variable(tf.random_normal([128]), name = 'b3'),\n",
        "    'bd1': tf.Variable(tf.random_normal([2048]), name = 'bd1'),\n",
        "    'bout': tf.Variable(tf.random_normal([num_classes]),name='bout')\n",
        "}"
      ],
      "metadata": {
        "id": "Kf7M0P00qgaU"
      },
      "execution_count": null,
      "outputs": []
    },
    {
      "cell_type": "code",
      "source": [
        "def conv_net(x, weights, biases):\n",
        "  x = tf.reshape(x, shape = [-1, 60, 60, 3])\n",
        "  print(\"#################################################################################\")\n",
        "  print(\"Size of x is\")\n",
        "  print(x.shape)\n",
        "\n",
        "  conv1 = conv2d(x, weights['w1'], biases['b1'])\n",
        "  conv1 = max_pool2d(conv1, k = 2)\n",
        "  print(\"#################################################################################\")\n",
        "  print(\"Size of 1st convolutional layer is\")\n",
        "  print(conv1.shape)\n",
        "\n",
        "  conv2 = conv2d(conv1, weights['w2'], biases['b2'])\n",
        "  conv2 = max_pool2d(conv2, k = 2)\n",
        "  print(\"################################################\")\n",
        "  print(\"Size of 2nd convolutional layer is\")\n",
        "  print(conv2.shape)\n",
        "\n",
        "  conv3 = conv2d(conv2, weights['w3'], biases['b3'])\n",
        "  conv3 = max_pool2d(conv3, k = 2)\n",
        "  print(\"###############################################\")\n",
        "  print(\"Size of 3rd convolutional layer is\")\n",
        "  print(conv3.shape)\n",
        "\n",
        "  #fully connected layer\n",
        "  fc1 = tf.reshape(conv3, [-1, weights['wd1'].get_shape().as_list()[0]])\n",
        "\n",
        "  print(\"###############################################\")\n",
        "  print(\"Shape after flattening the image\")\n",
        "  print(fc1)\n",
        "\n",
        "  fc1 = tf.add(tf.matmul(fc1, weights['wd1']), biases['bd1'])\n",
        "  fc1 = tf.nn.relu(fc1)\n",
        "  print(\"##################################################\")\n",
        "  print(\"Shape after fully connected layer\")\n",
        "\n",
        "\n",
        "  out = tf.add(tf.matmul(fc1, weights['wout']), biases['bout'])\n",
        "  print(\"#########################################\")\n",
        "  print(\"output layer\")\n",
        "  return out\n"
      ],
      "metadata": {
        "id": "PYfT9M4mSzMg"
      },
      "execution_count": null,
      "outputs": []
    },
    {
      "cell_type": "code",
      "source": [
        "model = conv_net(x, weights, biases)\n",
        "print(model)"
      ],
      "metadata": {
        "colab": {
          "base_uri": "https://localhost:8080/"
        },
        "id": "a7zxYFeaqD87",
        "outputId": "b84c96f0-2c09-493a-efd1-e81b4f7d9dc9"
      },
      "execution_count": null,
      "outputs": [
        {
          "output_type": "stream",
          "name": "stdout",
          "text": [
            "#################################################################################\n",
            "Size of x is\n",
            "(?, 60, 60, 3)\n",
            "#################################################################################\n",
            "Size of 1st convolutional layer is\n",
            "(?, 30, 30, 32)\n",
            "################################################\n",
            "Size of 2nd convolutional layer is\n",
            "(?, 15, 15, 64)\n",
            "###############################################\n",
            "Size of 3rd convolutional layer is\n",
            "(?, 8, 8, 128)\n",
            "###############################################\n",
            "Shape after flattening the image\n",
            "Tensor(\"Reshape_5:0\", shape=(?, 8192), dtype=float32)\n",
            "##################################################\n",
            "Shape after fully connected layer\n",
            "#########################################\n",
            "output layer\n",
            "Tensor(\"Add_5:0\", shape=(?, 3), dtype=float32)\n"
          ]
        }
      ]
    },
    {
      "cell_type": "code",
      "source": [
        "# cost function is used to calculate the loss\n",
        "cost = tf.reduce_mean(tf.nn.softmax_cross_entropy_with_logits(logits = model, labels = y_))\n",
        "#optimizer is used to adjust the weights and biases\n",
        "optimizer = tf.train.AdamOptimizer(learning_rate = learning_rate).minimize(cost)"
      ],
      "metadata": {
        "id": "jrAGvDwfqe6B"
      },
      "execution_count": null,
      "outputs": []
    },
    {
      "cell_type": "code",
      "source": [
        "#Initializing the variables\n",
        "\n",
        "init = tf.global_variables_initializer()"
      ],
      "metadata": {
        "id": "7Kwjy5_IzmTI"
      },
      "execution_count": null,
      "outputs": []
    },
    {
      "cell_type": "code",
      "source": [
        "cost_history = []\n",
        "n_epochs = 10\n",
        "# the execution\n",
        "\n",
        "sess = tf.Session()\n",
        "sess.run(init)\n",
        "train_y = train_y.todense()\n",
        "\n",
        "for i in range(n_epochs):\n",
        "  a, c = sess.run ([optimizer, cost], feed_dict = {x: train_x, y_: train_y})\n",
        "  cost_history = np.append(cost_history, c)\n",
        "  print(\"epoch\", i, \"cost\", c)"
      ],
      "metadata": {
        "id": "5SdKDNnzWjlh",
        "colab": {
          "base_uri": "https://localhost:8080/"
        },
        "outputId": "574f0577-bc41-4820-da0e-8d0fb1b3818a"
      },
      "execution_count": null,
      "outputs": [
        {
          "output_type": "stream",
          "name": "stdout",
          "text": [
            "epoch 0 cost 2632526.2\n",
            "epoch 1 cost 7910579.5\n",
            "epoch 2 cost 4098246.8\n",
            "epoch 3 cost 2701677.2\n",
            "epoch 4 cost 4415217.0\n",
            "epoch 5 cost 4145031.8\n",
            "epoch 6 cost 3973099.5\n",
            "epoch 7 cost 2878940.2\n",
            "epoch 8 cost 1411315.0\n",
            "epoch 9 cost 2343368.2\n"
          ]
        }
      ]
    },
    {
      "cell_type": "code",
      "source": [
        "test_y = test_y.todense()  #working solution of value error: setting an array element with sequence\n",
        "\n",
        "# tf.argmax is used to get the label with the highest score\n",
        "correct_prediction = tf.equal(tf.argmax(model, 1), tf.argmax(y_, 1))\n",
        "correct_prediction\n",
        "\n",
        "accuracy = tf.reduce_mean(tf.cast(correct_prediction, tf.float32))\n",
        "accuracy\n",
        "# return the accuracy on the test set\n",
        "\n",
        "print(\"Accuracy: \", sess.run(accuracy, feed_dict={x: test_x, y_: test_y}))\n"
      ],
      "metadata": {
        "colab": {
          "base_uri": "https://localhost:8080/"
        },
        "id": "Y3MDELrrWgxC",
        "outputId": "9cb86ba6-ce35-4eef-f85a-4850f8c89a6d"
      },
      "execution_count": null,
      "outputs": [
        {
          "output_type": "stream",
          "name": "stdout",
          "text": [
            "Accuracy:  0.36216217\n"
          ]
        }
      ]
    },
    {
      "cell_type": "markdown",
      "source": [
        "Saving the weights of the previous model"
      ],
      "metadata": {
        "id": "kijWeB-alSYC"
      }
    },
    {
      "cell_type": "code",
      "source": [
        "tf.saved_model.save(model, \"model.h5\")"
      ],
      "metadata": {
        "colab": {
          "base_uri": "https://localhost:8080/",
          "height": 341
        },
        "id": "xaLp5frnm308",
        "outputId": "87aa47db-75cc-454e-bd21-e148ea4a1a63"
      },
      "execution_count": null,
      "outputs": [
        {
          "output_type": "error",
          "ename": "ValueError",
          "evalue": "ignored",
          "traceback": [
            "\u001b[0;31m---------------------------------------------------------------------------\u001b[0m",
            "\u001b[0;31mValueError\u001b[0m                                Traceback (most recent call last)",
            "\u001b[0;32m<ipython-input-82-276abd949a18>\u001b[0m in \u001b[0;36m<module>\u001b[0;34m\u001b[0m\n\u001b[0;32m----> 1\u001b[0;31m \u001b[0mtf\u001b[0m\u001b[0;34m.\u001b[0m\u001b[0msaved_model\u001b[0m\u001b[0;34m.\u001b[0m\u001b[0msave\u001b[0m\u001b[0;34m(\u001b[0m\u001b[0mmodel\u001b[0m\u001b[0;34m,\u001b[0m \u001b[0;34m\"model.h5\"\u001b[0m\u001b[0;34m)\u001b[0m\u001b[0;34m\u001b[0m\u001b[0;34m\u001b[0m\u001b[0m\n\u001b[0m",
            "\u001b[0;32m/usr/local/lib/python3.8/dist-packages/tensorflow/python/saved_model/save.py\u001b[0m in \u001b[0;36msave\u001b[0;34m(obj, export_dir, signatures, options)\u001b[0m\n\u001b[1;32m   1288\u001b[0m   \u001b[0;31m# pylint: enable=line-too-long\u001b[0m\u001b[0;34m\u001b[0m\u001b[0;34m\u001b[0m\u001b[0;34m\u001b[0m\u001b[0m\n\u001b[1;32m   1289\u001b[0m   \u001b[0mmetrics\u001b[0m\u001b[0;34m.\u001b[0m\u001b[0mIncrementWriteApi\u001b[0m\u001b[0;34m(\u001b[0m\u001b[0m_SAVE_V2_LABEL\u001b[0m\u001b[0;34m)\u001b[0m\u001b[0;34m\u001b[0m\u001b[0;34m\u001b[0m\u001b[0m\n\u001b[0;32m-> 1290\u001b[0;31m   \u001b[0msave_and_return_nodes\u001b[0m\u001b[0;34m(\u001b[0m\u001b[0mobj\u001b[0m\u001b[0;34m,\u001b[0m \u001b[0mexport_dir\u001b[0m\u001b[0;34m,\u001b[0m \u001b[0msignatures\u001b[0m\u001b[0;34m,\u001b[0m \u001b[0moptions\u001b[0m\u001b[0;34m)\u001b[0m\u001b[0;34m\u001b[0m\u001b[0;34m\u001b[0m\u001b[0m\n\u001b[0m\u001b[1;32m   1291\u001b[0m   \u001b[0mmetrics\u001b[0m\u001b[0;34m.\u001b[0m\u001b[0mIncrementWrite\u001b[0m\u001b[0;34m(\u001b[0m\u001b[0mwrite_version\u001b[0m\u001b[0;34m=\u001b[0m\u001b[0;34m\"2\"\u001b[0m\u001b[0;34m)\u001b[0m\u001b[0;34m\u001b[0m\u001b[0;34m\u001b[0m\u001b[0m\n\u001b[1;32m   1292\u001b[0m \u001b[0;34m\u001b[0m\u001b[0m\n",
            "\u001b[0;32m/usr/local/lib/python3.8/dist-packages/tensorflow/python/saved_model/save.py\u001b[0m in \u001b[0;36msave_and_return_nodes\u001b[0;34m(obj, export_dir, signatures, options, experimental_skip_checkpoint)\u001b[0m\n\u001b[1;32m   1323\u001b[0m \u001b[0;34m\u001b[0m\u001b[0m\n\u001b[1;32m   1324\u001b[0m   _, exported_graph, object_saver, asset_info, saved_nodes, node_paths = (\n\u001b[0;32m-> 1325\u001b[0;31m       _build_meta_graph(obj, signatures, options, meta_graph_def))\n\u001b[0m\u001b[1;32m   1326\u001b[0m   saved_model.saved_model_schema_version = (\n\u001b[1;32m   1327\u001b[0m       constants.SAVED_MODEL_SCHEMA_VERSION)\n",
            "\u001b[0;32m/usr/local/lib/python3.8/dist-packages/tensorflow/python/saved_model/save.py\u001b[0m in \u001b[0;36m_build_meta_graph\u001b[0;34m(obj, signatures, options, meta_graph_def)\u001b[0m\n\u001b[1;32m   1489\u001b[0m \u001b[0;34m\u001b[0m\u001b[0m\n\u001b[1;32m   1490\u001b[0m   \u001b[0;32mwith\u001b[0m \u001b[0msave_context\u001b[0m\u001b[0;34m.\u001b[0m\u001b[0msave_context\u001b[0m\u001b[0;34m(\u001b[0m\u001b[0moptions\u001b[0m\u001b[0;34m)\u001b[0m\u001b[0;34m:\u001b[0m\u001b[0;34m\u001b[0m\u001b[0;34m\u001b[0m\u001b[0m\n\u001b[0;32m-> 1491\u001b[0;31m     \u001b[0;32mreturn\u001b[0m \u001b[0m_build_meta_graph_impl\u001b[0m\u001b[0;34m(\u001b[0m\u001b[0mobj\u001b[0m\u001b[0;34m,\u001b[0m \u001b[0msignatures\u001b[0m\u001b[0;34m,\u001b[0m \u001b[0moptions\u001b[0m\u001b[0;34m,\u001b[0m \u001b[0mmeta_graph_def\u001b[0m\u001b[0;34m)\u001b[0m\u001b[0;34m\u001b[0m\u001b[0;34m\u001b[0m\u001b[0m\n\u001b[0m",
            "\u001b[0;32m/usr/local/lib/python3.8/dist-packages/tensorflow/python/saved_model/save.py\u001b[0m in \u001b[0;36m_build_meta_graph_impl\u001b[0;34m(obj, signatures, options, meta_graph_def)\u001b[0m\n\u001b[1;32m   1423\u001b[0m   \u001b[0;31m# pylint: enable=line-too-long\u001b[0m\u001b[0;34m\u001b[0m\u001b[0;34m\u001b[0m\u001b[0;34m\u001b[0m\u001b[0m\n\u001b[1;32m   1424\u001b[0m   \u001b[0;32mif\u001b[0m \u001b[0;32mnot\u001b[0m \u001b[0misinstance\u001b[0m\u001b[0;34m(\u001b[0m\u001b[0mobj\u001b[0m\u001b[0;34m,\u001b[0m \u001b[0mbase\u001b[0m\u001b[0;34m.\u001b[0m\u001b[0mTrackable\u001b[0m\u001b[0;34m)\u001b[0m\u001b[0;34m:\u001b[0m\u001b[0;34m\u001b[0m\u001b[0;34m\u001b[0m\u001b[0m\n\u001b[0;32m-> 1425\u001b[0;31m     raise ValueError(\n\u001b[0m\u001b[1;32m   1426\u001b[0m         \u001b[0;34m\"Expected an object of type `Trackable`, such as `tf.Module` or a \"\u001b[0m\u001b[0;34m\u001b[0m\u001b[0;34m\u001b[0m\u001b[0m\n\u001b[1;32m   1427\u001b[0m         \u001b[0;34mf\"subclass of the `Trackable` class, for export. Got {obj} \"\u001b[0m\u001b[0;34m\u001b[0m\u001b[0;34m\u001b[0m\u001b[0m\n",
            "\u001b[0;31mValueError\u001b[0m: Expected an object of type `Trackable`, such as `tf.Module` or a subclass of the `Trackable` class, for export. Got Tensor(\"Add_5:0\", shape=(?, 3), dtype=float32) with type <class 'tensorflow.python.framework.ops.Tensor'>."
          ]
        }
      ]
    },
    {
      "cell_type": "code",
      "source": [
        "model.save_weights(weights.h5)"
      ],
      "metadata": {
        "colab": {
          "base_uri": "https://localhost:8080/",
          "height": 299
        },
        "id": "uQIoQeXglWq5",
        "outputId": "f1cbcb55-478e-4820-8b0a-b00f6527f420"
      },
      "execution_count": null,
      "outputs": [
        {
          "output_type": "error",
          "ename": "AttributeError",
          "evalue": "ignored",
          "traceback": [
            "\u001b[0;31m---------------------------------------------------------------------------\u001b[0m",
            "\u001b[0;31mAttributeError\u001b[0m                            Traceback (most recent call last)",
            "\u001b[0;32m<ipython-input-79-f52987820bb1>\u001b[0m in \u001b[0;36m<module>\u001b[0;34m\u001b[0m\n\u001b[0;32m----> 1\u001b[0;31m \u001b[0mmodel\u001b[0m\u001b[0;34m.\u001b[0m\u001b[0msave_weights\u001b[0m\u001b[0;34m(\u001b[0m\u001b[0mweights\u001b[0m\u001b[0;34m.\u001b[0m\u001b[0mh5\u001b[0m\u001b[0;34m)\u001b[0m\u001b[0;34m\u001b[0m\u001b[0;34m\u001b[0m\u001b[0m\n\u001b[0m",
            "\u001b[0;32m/usr/local/lib/python3.8/dist-packages/tensorflow/python/framework/ops.py\u001b[0m in \u001b[0;36m__getattr__\u001b[0;34m(self, name)\u001b[0m\n\u001b[1;32m    444\u001b[0m         \u001b[0mnp_config\u001b[0m\u001b[0;34m.\u001b[0m\u001b[0menable_numpy_behavior\u001b[0m\u001b[0;34m(\u001b[0m\u001b[0;34m)\u001b[0m\u001b[0;34m\u001b[0m\u001b[0;34m\u001b[0m\u001b[0m\n\u001b[1;32m    445\u001b[0m       \"\"\")\n\u001b[0;32m--> 446\u001b[0;31m     \u001b[0mself\u001b[0m\u001b[0;34m.\u001b[0m\u001b[0m__getattribute__\u001b[0m\u001b[0;34m(\u001b[0m\u001b[0mname\u001b[0m\u001b[0;34m)\u001b[0m\u001b[0;34m\u001b[0m\u001b[0;34m\u001b[0m\u001b[0m\n\u001b[0m\u001b[1;32m    447\u001b[0m \u001b[0;34m\u001b[0m\u001b[0m\n\u001b[1;32m    448\u001b[0m   \u001b[0;34m@\u001b[0m\u001b[0mstaticmethod\u001b[0m\u001b[0;34m\u001b[0m\u001b[0;34m\u001b[0m\u001b[0m\n",
            "\u001b[0;31mAttributeError\u001b[0m: 'Tensor' object has no attribute 'save_weights'"
          ]
        }
      ]
    },
    {
      "cell_type": "markdown",
      "source": [
        "This model is trained with the help of tensorflow which returns the tensor object. Tensor object has no attribute predict. In order to predict we have to import the model and usetf.Keras.model"
      ],
      "metadata": {
        "id": "ZsNnET3pewko"
      }
    },
    {
      "cell_type": "markdown",
      "source": [
        "Creating a new model using keras"
      ],
      "metadata": {
        "id": "IgiJ5FPlgBXu"
      }
    },
    {
      "cell_type": "code",
      "source": [
        "model1 = tf.keras.Sequential()\n",
        "\n",
        "model1.add(tf.keras.layers.Conv2D(32, (5, 5), activation='relu', input_shape=(60, 60, 3)))\n",
        "model1.add(tf.keras.layers.MaxPooling2D((2, 2)))\n",
        "\n",
        "model1.add(tf.keras.layers.Conv2D(64, (5, 5), activation='relu'))\n",
        "model1.add(tf.keras.layers.MaxPooling2D((2, 2)))\n",
        "\n",
        "model1.add(tf.keras.layers.Conv2D(128, (5, 5), activation='relu'))\n",
        "model1.add(tf.keras.layers.MaxPooling2D((2, 2)))\n",
        "model1.add(tf.keras.layers.Flatten())\n",
        "model1.add(tf.keras.layers.Dense(3, activation='softmax'))\n",
        "model1.summary()"
      ],
      "metadata": {
        "colab": {
          "base_uri": "https://localhost:8080/"
        },
        "id": "sngUiSKKiO0i",
        "outputId": "31c91641-0821-42af-f1d4-81d0220d7382"
      },
      "execution_count": null,
      "outputs": [
        {
          "output_type": "stream",
          "name": "stdout",
          "text": [
            "Model: \"sequential_3\"\n",
            "_________________________________________________________________\n",
            " Layer (type)                Output Shape              Param #   \n",
            "=================================================================\n",
            " conv2d_9 (Conv2D)           (None, 56, 56, 32)        2432      \n",
            "                                                                 \n",
            " max_pooling2d_9 (MaxPooling  (None, 28, 28, 32)       0         \n",
            " 2D)                                                             \n",
            "                                                                 \n",
            " conv2d_10 (Conv2D)          (None, 24, 24, 64)        51264     \n",
            "                                                                 \n",
            " max_pooling2d_10 (MaxPoolin  (None, 12, 12, 64)       0         \n",
            " g2D)                                                            \n",
            "                                                                 \n",
            " conv2d_11 (Conv2D)          (None, 8, 8, 128)         204928    \n",
            "                                                                 \n",
            " max_pooling2d_11 (MaxPoolin  (None, 4, 4, 128)        0         \n",
            " g2D)                                                            \n",
            "                                                                 \n",
            " flatten_2 (Flatten)         (None, 2048)              0         \n",
            "                                                                 \n",
            " dense_2 (Dense)             (None, 3)                 6147      \n",
            "                                                                 \n",
            "=================================================================\n",
            "Total params: 264,771\n",
            "Trainable params: 264,771\n",
            "Non-trainable params: 0\n",
            "_________________________________________________________________\n"
          ]
        }
      ]
    },
    {
      "cell_type": "markdown",
      "source": [
        "Loading weights from the initiallt trained model"
      ],
      "metadata": {
        "id": "tdxh9rdNjTht"
      }
    },
    {
      "cell_type": "code",
      "source": [],
      "metadata": {
        "id": "XzVYQ1yLcR3H"
      },
      "execution_count": null,
      "outputs": []
    }
  ]
}